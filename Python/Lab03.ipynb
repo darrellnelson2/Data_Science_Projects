{
 "cells": [
  {
   "cell_type": "markdown",
   "metadata": {},
   "source": [
    "# Lab 03"
   ]
  },
  {
   "cell_type": "code",
   "execution_count": 1,
   "metadata": {},
   "outputs": [
    {
     "name": "stdout",
     "output_type": "stream",
     "text": [
      "0        2\n",
      "1        9\n",
      "2        6\n",
      "3        0\n",
      "4        3\n",
      "5        4\n",
      "6        4\n",
      "7        5\n",
      "8        4\n",
      "9        8\n",
      "10       0\n",
      "11       8\n",
      "12       9\n",
      "13       0\n",
      "14       2\n",
      "15       2\n",
      "16       9\n",
      "17       3\n",
      "18       3\n",
      "19       3\n",
      "20       8\n",
      "21       7\n",
      "22       4\n",
      "23       4\n",
      "24       0\n",
      "25       4\n",
      "26       4\n",
      "27       8\n",
      "28       7\n",
      "29       1\n",
      "        ..\n",
      "59970    7\n",
      "59971    5\n",
      "59972    2\n",
      "59973    8\n",
      "59974    7\n",
      "59975    9\n",
      "59976    5\n",
      "59977    8\n",
      "59978    6\n",
      "59979    5\n",
      "59980    0\n",
      "59981    5\n",
      "59982    5\n",
      "59983    5\n",
      "59984    7\n",
      "59985    6\n",
      "59986    6\n",
      "59987    5\n",
      "59988    5\n",
      "59989    4\n",
      "59990    0\n",
      "59991    5\n",
      "59992    5\n",
      "59993    2\n",
      "59994    9\n",
      "59995    9\n",
      "59996    1\n",
      "59997    8\n",
      "59998    8\n",
      "59999    7\n",
      "Name: label, Length: 60000, dtype: int64\n",
      "      pixel1  pixel2  pixel3  pixel4  pixel5  pixel6  pixel7  pixel8  pixel9  \\\n",
      "0          0       0       0       0       0       0       0       9       8   \n",
      "1          0       0       0       0       0       0       0       0       0   \n",
      "2          0       0       0       0       0       0      14      53      99   \n",
      "3          0       0       0       0       0       0       0       0       0   \n",
      "4          0       0       0       0       0       0       0       0       0   \n",
      "5          0       0       0       0       0      44     105      44      10   \n",
      "6          0       0       0       0       0       0       0       0       0   \n",
      "7          0       0       0       0       0       0       0       1       0   \n",
      "8          0       0       0       0       0       0       0       0       0   \n",
      "9          0       0       0       0       0       0       0       0       0   \n",
      "10         0       0       0       0       0       0       0       1       0   \n",
      "11         0       0       0       0       0       0       1       1       0   \n",
      "12         0       0       0       0       0       0       0       0       0   \n",
      "13         0       0       0       0       0       0       1       1       0   \n",
      "14         0       0       0       0       0       0       0       0       0   \n",
      "15         0       0       0       0       0       0       0       0       0   \n",
      "16         0       0       0       0       0       0       1       5       0   \n",
      "17         0       0       0       0       0       0       0       0      15   \n",
      "18         0       0       0       0       0       0       0       2       2   \n",
      "19         0       0       0       0       0       0       0       0       0   \n",
      "20         0       0       0       0       0       0       0       0       0   \n",
      "21         0       0       0       0       0       0       0       0       0   \n",
      "22         0       0       0       0       0       0       1       0       0   \n",
      "23         0       0       0       0       0       0       0       0       0   \n",
      "24         0       0       0       0       0       0       0       0       0   \n",
      "25         0       0       0       0       0       0       0       0       0   \n",
      "26         0       0       0       0       0       0       0       0       0   \n",
      "27         0       0       0       0       0       0       0       0       0   \n",
      "28         0       0       0       0       0       0       0       0       0   \n",
      "29         0       0       0       0       0       0       0       0       0   \n",
      "...      ...     ...     ...     ...     ...     ...     ...     ...     ...   \n",
      "9970       0       0       0       0       0       0       0       0       0   \n",
      "9971       0       0       0       0       0       0       0       0       0   \n",
      "9972       0       0       0       0       0       0       0       0       0   \n",
      "9973       0       0       0       0       0       0       0       0       0   \n",
      "9974       0       0       0       0       0       0       0       0       0   \n",
      "9975       0       0       3       0       1       2       0       0       0   \n",
      "9976       0       0       0       0       0       0       0       0       0   \n",
      "9977       0       0       0       0       0       0       0       0       0   \n",
      "9978       0       0       0       0       0       0       0       0       0   \n",
      "9979       0       0       0       0       0       0       1       0       0   \n",
      "9980       0       0       0       0       0       0       0       0       0   \n",
      "9981       0       0       0       0       0       0       0       0       0   \n",
      "9982       0       0       0       0       0       0       0       0       0   \n",
      "9983       0       0       0       0       0       0       0       0       0   \n",
      "9984       0       0       0       0       0       0       0       0       0   \n",
      "9985       0       0       0       0       0       0       0       0       0   \n",
      "9986       0       0       0       0       2       0       2       0       0   \n",
      "9987       0       0       0       0       0       0       0       0       0   \n",
      "9988       0       0       0       0       0       0       0       0       0   \n",
      "9989       0       0       0       0       0       0       0       0       0   \n",
      "9990       0       0       0       0       0       0       0       0       0   \n",
      "9991       0       0       0       0       0       0       0       0       0   \n",
      "9992       0       0       0       0       0       0       0       0       0   \n",
      "9993       0       0       0       0       0       0       0       0       0   \n",
      "9994       0       0       0       0       0       0       0       1       0   \n",
      "9995       0       0       0       0       0       0       0       0       0   \n",
      "9996       0       0       0       0       0       0       0       0       0   \n",
      "9997       0       0       0       0       0       0       0       0       0   \n",
      "9998       0       1       3       0       0       0       0       0       0   \n",
      "9999       0       0       0       0       0       0       0     140     119   \n",
      "\n",
      "      pixel10  ...  pixel775  pixel776  pixel777  pixel778  pixel779  \\\n",
      "0           0  ...       103        87        56         0         0   \n",
      "1           0  ...        34         0         0         0         0   \n",
      "2          17  ...         0         0         0         0        63   \n",
      "3         161  ...       137       126       140         0       133   \n",
      "4           0  ...         0         0         0         0         0   \n",
      "5           0  ...       105        64        30         0         0   \n",
      "6           0  ...         0         0         0         0         0   \n",
      "7           0  ...       174       136       155        31         0   \n",
      "8           0  ...         0         0         0         0         0   \n",
      "9           0  ...        57        70        28         0         2   \n",
      "10          0  ...        12         0         0         0         0   \n",
      "11          0  ...         2         0        21       138       151   \n",
      "12          0  ...       118        73         0       164       225   \n",
      "13          0  ...         0         0         0         0        17   \n",
      "14          0  ...         0         0         0         0         0   \n",
      "15          0  ...         0         0         0         0         0   \n",
      "16          0  ...        90        60         0       129       146   \n",
      "17        132  ...         3         0         3         0         0   \n",
      "18          2  ...         0         0         0         5         3   \n",
      "19          0  ...         0         0         0         0         0   \n",
      "20          0  ...       187       210        52         0         2   \n",
      "21          0  ...         0         1         0         0         0   \n",
      "22          0  ...         0         0         0       118       158   \n",
      "23          4  ...       227        96         0         0         0   \n",
      "24          0  ...         0         0         0         0         0   \n",
      "25          0  ...         0         0         0         0         0   \n",
      "26          3  ...        39        31        19        19         0   \n",
      "27          0  ...        50        17         0         0         0   \n",
      "28          0  ...         0         0       215       219       172   \n",
      "29         18  ...       197       177         0         0         0   \n",
      "...       ...  ...       ...       ...       ...       ...       ...   \n",
      "9970        0  ...         0         0         0         0         0   \n",
      "9971        0  ...         0         0         0         0         0   \n",
      "9972       65  ...        63        32         0         0         0   \n",
      "9973        0  ...        82         1         0         0         0   \n",
      "9974        0  ...         0         0         0         0         0   \n",
      "9975        0  ...       127       117       110         0         0   \n",
      "9976        0  ...        95        98        98        96        99   \n",
      "9977        0  ...         0         0         0         0         0   \n",
      "9978        0  ...         0         0         0         0         0   \n",
      "9979        0  ...         0         0         0         0         0   \n",
      "9980        0  ...         0         0         0         0         0   \n",
      "9981        0  ...         0         0         0         0        70   \n",
      "9982        0  ...         0         0         0         0         0   \n",
      "9983        0  ...         0         0         0         0         0   \n",
      "9984        0  ...         0         0         0         0         0   \n",
      "9985        0  ...        94        74         0         0         0   \n",
      "9986        0  ...         7         0         0         1         0   \n",
      "9987        0  ...        63        44         0         0        38   \n",
      "9988        0  ...         0         0         0         0         0   \n",
      "9989        0  ...         0         0         0         0         0   \n",
      "9990        0  ...         0         0         0         0         0   \n",
      "9991        0  ...         0         0         0         0         0   \n",
      "9992        0  ...       120         0         0         1         0   \n",
      "9993        0  ...         0         0         0         0         0   \n",
      "9994        2  ...        85        67       114        51         0   \n",
      "9995       37  ...        32        23        14        20         0   \n",
      "9996        0  ...         0         0         0         2        52   \n",
      "9997        0  ...       175       172       172       182       199   \n",
      "9998        0  ...         0         0         0         0         0   \n",
      "9999      103  ...       111        95        75        44         1   \n",
      "\n",
      "      pixel780  pixel781  pixel782  pixel783  pixel784  \n",
      "0            0         0         0         0         0  \n",
      "1            0         0         0         0         0  \n",
      "2           53        31         0         0         0  \n",
      "3          224       222        56         0         0  \n",
      "4            0         0         0         0         0  \n",
      "5            0         0         0         0         0  \n",
      "6            0         0         0         0         0  \n",
      "7            1         0         0         0         0  \n",
      "8            0         0         0         0         0  \n",
      "9            0         0         0         0         0  \n",
      "10           0         0         0         0         0  \n",
      "11          71         0         0         0         0  \n",
      "12         123         0         0         0         0  \n",
      "13           0         0         0         0         0  \n",
      "14           0         0         0         0         0  \n",
      "15           0         0         0         0         0  \n",
      "16          78         0         0         0         0  \n",
      "17           0         0         0         0         0  \n",
      "18           1         0         0         0         0  \n",
      "19          50       107        18         0         0  \n",
      "20           0         0         0         0         0  \n",
      "21           0         0         0         0         0  \n",
      "22          92         0         0         0         0  \n",
      "23           0         0         0         0         0  \n",
      "24           0         0         0         0         0  \n",
      "25           0         0         0         0         0  \n",
      "26           0         0         0         0         0  \n",
      "27           1         4         1         0         0  \n",
      "28           0         0         0         0         0  \n",
      "29           0         0         0         0         0  \n",
      "...        ...       ...       ...       ...       ...  \n",
      "9970         0         0         0         0         0  \n",
      "9971         0         0         0         0         0  \n",
      "9972         1         0         0         0         0  \n",
      "9973         0         0         0         0         0  \n",
      "9974         0         0         0         0         0  \n",
      "9975         1         0         0         0         0  \n",
      "9976        87        50         0         0         0  \n",
      "9977         0         0         0         0         0  \n",
      "9978         0         0         0         0         0  \n",
      "9979         0         1        34         0         0  \n",
      "9980         0         0         0         0         0  \n",
      "9981        89        30         0         0         0  \n",
      "9982         0         0         0         0         0  \n",
      "9983         0         0         0         0         0  \n",
      "9984         0         0         0         0         0  \n",
      "9985         0         0         0         0         0  \n",
      "9986         1         1         0         1         0  \n",
      "9987        38        44         0         0         0  \n",
      "9988         0         0         0         0         0  \n",
      "9989         0         0         0         0         0  \n",
      "9990         0         0         0         0         0  \n",
      "9991         0         0         0         0         0  \n",
      "9992         0         0         0         0         0  \n",
      "9993         0         0         0         0         0  \n",
      "9994         1         0         0         0         0  \n",
      "9995         0         1         0         0         0  \n",
      "9996        23        28         0         0         0  \n",
      "9997       222        42         0         1         0  \n",
      "9998         1         0         0         0         0  \n",
      "9999         0         0         0         0         0  \n",
      "\n",
      "[10000 rows x 784 columns]\n"
     ]
    }
   ],
   "source": [
    "# # read in the csv files for testing and training data-sets\n",
    "import pandas as pd\n",
    "train = pd.read_csv(\"fashion-mnist_train.csv\")\n",
    "train_nolabel = train.drop(['label'], axis=1)\n",
    "train_label = train['label']\n",
    "print(train_label)\n",
    "test = pd.read_csv(\"fashion-mnist_test.csv\")\n",
    "test_nolabel = test.drop(['label'], axis=1)\n",
    "test_label = test['label']\n",
    "print(test_nolabel)"
   ]
  },
  {
   "cell_type": "code",
   "execution_count": 2,
   "metadata": {},
   "outputs": [
    {
     "name": "stdout",
     "output_type": "stream",
     "text": [
      "(60000, 784) (10000, 784)\n"
     ]
    }
   ],
   "source": [
    "print(train_nolabel.shape,\n",
    "test_nolabel.shape)\n",
    "# train/test split is 6/1"
   ]
  },
  {
   "cell_type": "code",
   "execution_count": 3,
   "metadata": {},
   "outputs": [
    {
     "data": {
      "text/html": [
       "<div>\n",
       "<style scoped>\n",
       "    .dataframe tbody tr th:only-of-type {\n",
       "        vertical-align: middle;\n",
       "    }\n",
       "\n",
       "    .dataframe tbody tr th {\n",
       "        vertical-align: top;\n",
       "    }\n",
       "\n",
       "    .dataframe thead th {\n",
       "        text-align: right;\n",
       "    }\n",
       "</style>\n",
       "<table border=\"1\" class=\"dataframe\">\n",
       "  <thead>\n",
       "    <tr style=\"text-align: right;\">\n",
       "      <th></th>\n",
       "      <th>pixel1</th>\n",
       "      <th>pixel2</th>\n",
       "      <th>pixel3</th>\n",
       "      <th>pixel4</th>\n",
       "      <th>pixel5</th>\n",
       "      <th>pixel6</th>\n",
       "      <th>pixel7</th>\n",
       "      <th>pixel8</th>\n",
       "      <th>pixel9</th>\n",
       "      <th>pixel10</th>\n",
       "      <th>...</th>\n",
       "      <th>pixel775</th>\n",
       "      <th>pixel776</th>\n",
       "      <th>pixel777</th>\n",
       "      <th>pixel778</th>\n",
       "      <th>pixel779</th>\n",
       "      <th>pixel780</th>\n",
       "      <th>pixel781</th>\n",
       "      <th>pixel782</th>\n",
       "      <th>pixel783</th>\n",
       "      <th>pixel784</th>\n",
       "    </tr>\n",
       "  </thead>\n",
       "  <tbody>\n",
       "    <tr>\n",
       "      <th>0</th>\n",
       "      <td>0</td>\n",
       "      <td>0</td>\n",
       "      <td>0</td>\n",
       "      <td>0</td>\n",
       "      <td>0</td>\n",
       "      <td>0</td>\n",
       "      <td>0</td>\n",
       "      <td>0</td>\n",
       "      <td>0</td>\n",
       "      <td>0</td>\n",
       "      <td>...</td>\n",
       "      <td>0</td>\n",
       "      <td>0</td>\n",
       "      <td>0</td>\n",
       "      <td>0</td>\n",
       "      <td>0</td>\n",
       "      <td>0</td>\n",
       "      <td>0</td>\n",
       "      <td>0</td>\n",
       "      <td>0</td>\n",
       "      <td>0</td>\n",
       "    </tr>\n",
       "    <tr>\n",
       "      <th>1</th>\n",
       "      <td>0</td>\n",
       "      <td>0</td>\n",
       "      <td>0</td>\n",
       "      <td>0</td>\n",
       "      <td>0</td>\n",
       "      <td>0</td>\n",
       "      <td>0</td>\n",
       "      <td>0</td>\n",
       "      <td>0</td>\n",
       "      <td>0</td>\n",
       "      <td>...</td>\n",
       "      <td>0</td>\n",
       "      <td>0</td>\n",
       "      <td>0</td>\n",
       "      <td>0</td>\n",
       "      <td>0</td>\n",
       "      <td>0</td>\n",
       "      <td>0</td>\n",
       "      <td>0</td>\n",
       "      <td>0</td>\n",
       "      <td>0</td>\n",
       "    </tr>\n",
       "    <tr>\n",
       "      <th>2</th>\n",
       "      <td>0</td>\n",
       "      <td>0</td>\n",
       "      <td>0</td>\n",
       "      <td>0</td>\n",
       "      <td>0</td>\n",
       "      <td>0</td>\n",
       "      <td>0</td>\n",
       "      <td>5</td>\n",
       "      <td>0</td>\n",
       "      <td>0</td>\n",
       "      <td>...</td>\n",
       "      <td>0</td>\n",
       "      <td>0</td>\n",
       "      <td>0</td>\n",
       "      <td>30</td>\n",
       "      <td>43</td>\n",
       "      <td>0</td>\n",
       "      <td>0</td>\n",
       "      <td>0</td>\n",
       "      <td>0</td>\n",
       "      <td>0</td>\n",
       "    </tr>\n",
       "    <tr>\n",
       "      <th>3</th>\n",
       "      <td>0</td>\n",
       "      <td>0</td>\n",
       "      <td>0</td>\n",
       "      <td>1</td>\n",
       "      <td>2</td>\n",
       "      <td>0</td>\n",
       "      <td>0</td>\n",
       "      <td>0</td>\n",
       "      <td>0</td>\n",
       "      <td>0</td>\n",
       "      <td>...</td>\n",
       "      <td>3</td>\n",
       "      <td>0</td>\n",
       "      <td>0</td>\n",
       "      <td>0</td>\n",
       "      <td>0</td>\n",
       "      <td>1</td>\n",
       "      <td>0</td>\n",
       "      <td>0</td>\n",
       "      <td>0</td>\n",
       "      <td>0</td>\n",
       "    </tr>\n",
       "    <tr>\n",
       "      <th>4</th>\n",
       "      <td>0</td>\n",
       "      <td>0</td>\n",
       "      <td>0</td>\n",
       "      <td>0</td>\n",
       "      <td>0</td>\n",
       "      <td>0</td>\n",
       "      <td>0</td>\n",
       "      <td>0</td>\n",
       "      <td>0</td>\n",
       "      <td>0</td>\n",
       "      <td>...</td>\n",
       "      <td>0</td>\n",
       "      <td>0</td>\n",
       "      <td>0</td>\n",
       "      <td>0</td>\n",
       "      <td>0</td>\n",
       "      <td>0</td>\n",
       "      <td>0</td>\n",
       "      <td>0</td>\n",
       "      <td>0</td>\n",
       "      <td>0</td>\n",
       "    </tr>\n",
       "  </tbody>\n",
       "</table>\n",
       "<p>5 rows × 784 columns</p>\n",
       "</div>"
      ],
      "text/plain": [
       "   pixel1  pixel2  pixel3  pixel4  pixel5  pixel6  pixel7  pixel8  pixel9  \\\n",
       "0       0       0       0       0       0       0       0       0       0   \n",
       "1       0       0       0       0       0       0       0       0       0   \n",
       "2       0       0       0       0       0       0       0       5       0   \n",
       "3       0       0       0       1       2       0       0       0       0   \n",
       "4       0       0       0       0       0       0       0       0       0   \n",
       "\n",
       "   pixel10  ...  pixel775  pixel776  pixel777  pixel778  pixel779  pixel780  \\\n",
       "0        0  ...         0         0         0         0         0         0   \n",
       "1        0  ...         0         0         0         0         0         0   \n",
       "2        0  ...         0         0         0        30        43         0   \n",
       "3        0  ...         3         0         0         0         0         1   \n",
       "4        0  ...         0         0         0         0         0         0   \n",
       "\n",
       "   pixel781  pixel782  pixel783  pixel784  \n",
       "0         0         0         0         0  \n",
       "1         0         0         0         0  \n",
       "2         0         0         0         0  \n",
       "3         0         0         0         0  \n",
       "4         0         0         0         0  \n",
       "\n",
       "[5 rows x 784 columns]"
      ]
     },
     "execution_count": 3,
     "metadata": {},
     "output_type": "execute_result"
    }
   ],
   "source": [
    "train_nolabel.head()\n",
    "# All pixels are labeled "
   ]
  },
  {
   "cell_type": "code",
   "execution_count": 4,
   "metadata": {},
   "outputs": [
    {
     "data": {
      "text/plain": [
       "255"
      ]
     },
     "execution_count": 4,
     "metadata": {},
     "output_type": "execute_result"
    }
   ],
   "source": [
    "Maxcolname = max(train)\n",
    "train[Maxcolname].max()"
   ]
  },
  {
   "cell_type": "code",
   "execution_count": 5,
   "metadata": {},
   "outputs": [
    {
     "data": {
      "text/plain": [
       "255"
      ]
     },
     "execution_count": 5,
     "metadata": {},
     "output_type": "execute_result"
    }
   ],
   "source": [
    "test[max(test)].max()\n",
    "# highest intensity/brightness of a pixel is 255"
   ]
  },
  {
   "cell_type": "code",
   "execution_count": 6,
   "metadata": {},
   "outputs": [],
   "source": [
    "off = ((train_nolabel == 0).sum()).sum()\n",
    "high_on = ((train_nolabel > 250).sum()).sum()"
   ]
  },
  {
   "cell_type": "code",
   "execution_count": 7,
   "metadata": {},
   "outputs": [
    {
     "data": {
      "text/plain": [
       "40.54905561520292"
      ]
     },
     "execution_count": 7,
     "metadata": {},
     "output_type": "execute_result"
    }
   ],
   "source": [
    "off/high_on\n",
    "# There is ~ a 40:1 ratio of off pixels to very dark pixels in the training dataset. \n",
    "# Images are surrounded by a lot of white space"
   ]
  },
  {
   "cell_type": "code",
   "execution_count": 8,
   "metadata": {},
   "outputs": [],
   "source": [
    "import matplotlib.pyplot as plt\n",
    "%matplotlib inline"
   ]
  },
  {
   "cell_type": "code",
   "execution_count": 31,
   "metadata": {},
   "outputs": [
    {
     "data": {
      "image/png": "[encoded data removed]",
      "text/plain": [
       "<Figure size 432x288 with 1 Axes>"
      ]
     },
     "metadata": {
      "needs_background": "light"
     },
     "output_type": "display_data"
    }
   ],
   "source": [
    "train.hist(column='label')\n",
    "plt.ylabel('Count')\n",
    "plt.xlabel('Class Label')\n",
    "plt.title('Training Data')\n",
    "plt.show()"
   ]
  },
  {
   "cell_type": "code",
   "execution_count": 10,
   "metadata": {},
   "outputs": [
    {
     "data": {
      "text/plain": [
       "array([2, 9, 6, 0, 3, 4, 5, 8, 7, 1], dtype=int64)"
      ]
     },
     "execution_count": 10,
     "metadata": {},
     "output_type": "execute_result"
    }
   ],
   "source": [
    "train.label.unique()\n",
    "# All classificiations are distributed equally in the training dataset"
   ]
  },
  {
   "cell_type": "code",
   "execution_count": 32,
   "metadata": {},
   "outputs": [
    {
     "data": {
      "image/png": "[encoded data removed]",
      "text/plain": [
       "<Figure size 432x288 with 1 Axes>"
      ]
     },
     "metadata": {
      "needs_background": "light"
     },
     "output_type": "display_data"
    }
   ],
   "source": [
    "test.hist(column='label')\n",
    "plt.ylabel('Count')\n",
    "plt.xlabel('Class Label')\n",
    "plt.title('Testing Data')\n",
    "plt.show()\n",
    "# All classificiations are distributed equally in the testing dataset"
   ]
  },
  {
   "cell_type": "markdown",
   "metadata": {},
   "source": [
    "# Train & Test Linear SVC model"
   ]
  },
  {
   "cell_type": "code",
   "execution_count": 12,
   "metadata": {},
   "outputs": [
    {
     "data": {
      "text/plain": [
       "LinearSVC(C=1.0, class_weight=None, dual=False, fit_intercept=True,\n",
       "     intercept_scaling=1, loss='squared_hinge', max_iter=3000,\n",
       "     multi_class='ovr', penalty='l2', random_state=None, tol=0.0001,\n",
       "     verbose=0)"
      ]
     },
     "execution_count": 12,
     "metadata": {},
     "output_type": "execute_result"
    }
   ],
   "source": [
    "# import the LinearSVC model\n",
    "from sklearn.svm import LinearSVC\n",
    "\n",
    "# initialize the LinearSVC model\n",
    "svm_clf = LinearSVC(dual=False, max_iter=3000)\n",
    "\n",
    "# use the training data to train the model\n",
    "svm_clf.fit(train_nolabel,train_label)"
   ]
  },
  {
   "cell_type": "code",
   "execution_count": 16,
   "metadata": {},
   "outputs": [
    {
     "name": "stdout",
     "output_type": "stream",
     "text": [
      "Overall training accuracy of Linear SVC:  0.8727833333333334\n"
     ]
    }
   ],
   "source": [
    "# print confusion matrix and classification report\n",
    "\n",
    "from sklearn.metrics import confusion_matrix\n",
    "svm_clf_train = svm_clf.score(train_nolabel,train_label)\n",
    "print('Overall training accuracy of Linear SVC: ', svm_clf_train)"
   ]
  },
  {
   "cell_type": "code",
   "execution_count": 17,
   "metadata": {},
   "outputs": [
    {
     "name": "stdout",
     "output_type": "stream",
     "text": [
      "[[814  10  21  48   2   3  84   0  18   0]\n",
      " [  4 970   5  12   2   2   4   1   0   0]\n",
      " [ 19   7 768  12 120   0  63   0  11   0]\n",
      " [ 26  26  15 873  27   2  24   3   4   0]\n",
      " [  1   3  69  29 812   0  83   0   3   0]\n",
      " [  2   3   0   1   1 894   0  58  10  31]\n",
      " [167  12 111  46  89   0 556   0  19   0]\n",
      " [  0   1   0   0   0  30   0 923   1  45]\n",
      " [  6   4   6  13   2  14  20  10 920   5]\n",
      " [  0   0   0   0   1  19   0  41   1 938]]\n",
      "\n"
     ]
    }
   ],
   "source": [
    "testlabel_pred = svm_clf.predict(test_nolabel)\n",
    "cm = confusion_matrix(test_label, testlabel_pred, labels=[0,1,2,3,4,5,6,7,8,9])\n",
    "print(cm)\n",
    "print()"
   ]
  },
  {
   "cell_type": "code",
   "execution_count": 19,
   "metadata": {
    "scrolled": true
   },
   "outputs": [
    {
     "name": "stdout",
     "output_type": "stream",
     "text": [
      "              precision    recall  f1-score   support\n",
      "\n",
      "           0       0.78      0.81      0.80      1000\n",
      "           1       0.94      0.97      0.95      1000\n",
      "           2       0.77      0.77      0.77      1000\n",
      "           3       0.84      0.87      0.86      1000\n",
      "           4       0.77      0.81      0.79      1000\n",
      "           5       0.93      0.89      0.91      1000\n",
      "           6       0.67      0.56      0.61      1000\n",
      "           7       0.89      0.92      0.91      1000\n",
      "           8       0.93      0.92      0.93      1000\n",
      "           9       0.92      0.94      0.93      1000\n",
      "\n",
      "   micro avg       0.85      0.85      0.85     10000\n",
      "   macro avg       0.84      0.85      0.84     10000\n",
      "weighted avg       0.84      0.85      0.84     10000\n",
      "\n"
     ]
    }
   ],
   "source": [
    "from sklearn.metrics import classification_report\n",
    "target_names = ['0','1','2','3','4', '5', '6', '7', '8', '9']\n",
    "print(classification_report(test_label, testlabel_pred, target_names=target_names))"
   ]
  },
  {
   "cell_type": "markdown",
   "metadata": {},
   "source": [
    "# Train & Test Neural Network"
   ]
  },
  {
   "cell_type": "code",
   "execution_count": 24,
   "metadata": {},
   "outputs": [
    {
     "data": {
      "text/plain": [
       "MLPClassifier(activation='relu', alpha=0.0001, batch_size='auto', beta_1=0.9,\n",
       "       beta_2=0.999, early_stopping=False, epsilon=1e-08,\n",
       "       hidden_layer_sizes=(100,), learning_rate='constant',\n",
       "       learning_rate_init=0.001, max_iter=200, momentum=0.9,\n",
       "       n_iter_no_change=10, nesterovs_momentum=True, power_t=0.5,\n",
       "       random_state=None, shuffle=True, solver='adam', tol=0.0001,\n",
       "       validation_fraction=0.1, verbose=False, warm_start=False)"
      ]
     },
     "execution_count": 24,
     "metadata": {},
     "output_type": "execute_result"
    }
   ],
   "source": [
    "from sklearn.neural_network import MLPClassifier\n",
    "# hidden layer chosen by dividing features (pixels) and classes by 2. \n",
    "# Then using two layers for robustness (perhaps over-kill) \n",
    "NN_clf = MLPClassifier()\n",
    "NN_clf.fit(train_nolabel,train_label)"
   ]
  },
  {
   "cell_type": "code",
   "execution_count": 25,
   "metadata": {},
   "outputs": [
    {
     "name": "stdout",
     "output_type": "stream",
     "text": [
      "Overall training accuracy of Neural Network:  0.9017\n"
     ]
    }
   ],
   "source": [
    "# print confusion matrix and classification report\n",
    "\n",
    "NN_clf_train = NN_clf.score(train_nolabel,train_label)\n",
    "print('Overall training accuracy of Neural Network: ', NN_clf_train)"
   ]
  },
  {
   "cell_type": "code",
   "execution_count": 26,
   "metadata": {},
   "outputs": [
    {
     "name": "stdout",
     "output_type": "stream",
     "text": [
      "[[736   6  17  40   0   2 192   1   6   0]\n",
      " [  4 980   0  11   1   0   4   0   0   0]\n",
      " [  3   3 739  12 131   0 109   0   3   0]\n",
      " [ 24  17   8 896  21   0  32   0   2   0]\n",
      " [  0   2  49  35 833   0  81   0   0   0]\n",
      " [  0   0   0   2   0 919   2  50   1  26]\n",
      " [113   9  69  34  84   0 681   0  10   0]\n",
      " [  0   0   0   1   0  12   0 930   1  56]\n",
      " [  3   0   4   5   5   4  43   3 932   1]\n",
      " [  0   0   0   1   0   2   0  30   1 966]]\n",
      "\n"
     ]
    }
   ],
   "source": [
    "testlabel_pred2 = NN_clf.predict(test_nolabel)\n",
    "cm2 = confusion_matrix(test_label, testlabel_pred2, labels=[0,1,2,3,4,5,6,7,8,9])\n",
    "print(cm2)\n",
    "print()"
   ]
  },
  {
   "cell_type": "code",
   "execution_count": 27,
   "metadata": {},
   "outputs": [
    {
     "name": "stdout",
     "output_type": "stream",
     "text": [
      "              precision    recall  f1-score   support\n",
      "\n",
      "           0       0.83      0.74      0.78      1000\n",
      "           1       0.96      0.98      0.97      1000\n",
      "           2       0.83      0.74      0.78      1000\n",
      "           3       0.86      0.90      0.88      1000\n",
      "           4       0.77      0.83      0.80      1000\n",
      "           5       0.98      0.92      0.95      1000\n",
      "           6       0.60      0.68      0.64      1000\n",
      "           7       0.92      0.93      0.92      1000\n",
      "           8       0.97      0.93      0.95      1000\n",
      "           9       0.92      0.97      0.94      1000\n",
      "\n",
      "   micro avg       0.86      0.86      0.86     10000\n",
      "   macro avg       0.87      0.86      0.86     10000\n",
      "weighted avg       0.87      0.86      0.86     10000\n",
      "\n"
     ]
    }
   ],
   "source": [
    "from sklearn.metrics import classification_report\n",
    "target_names = ['0','1','2','3','4', '5', '6', '7', '8', '9']\n",
    "print(classification_report(test_label, testlabel_pred2, target_names=target_names))"
   ]
  },
  {
   "cell_type": "code",
   "execution_count": null,
   "metadata": {},
   "outputs": [],
   "source": []
  }
 ],
 "metadata": {
  "kernelspec": {
   "display_name": "Python 3",
   "language": "python",
   "name": "python3"
  },
  "language_info": {
   "codemirror_mode": {
    "name": "ipython",
    "version": 3
   },
   "file_extension": ".py",
   "mimetype": "text/x-python",
   "name": "python",
   "nbconvert_exporter": "python",
   "pygments_lexer": "ipython3",
   "version": "3.7.3"
  }
 },
 "nbformat": 4,
 "nbformat_minor": 2
}
