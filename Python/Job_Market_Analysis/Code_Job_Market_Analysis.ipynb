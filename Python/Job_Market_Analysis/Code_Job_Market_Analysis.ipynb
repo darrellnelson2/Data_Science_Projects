{
 "cells": [
  {
   "cell_type": "code",
   "execution_count": 1,
   "metadata": {},
   "outputs": [
    {
     "name": "stderr",
     "output_type": "stream",
     "text": [
      "[nltk_data] Downloading package punkt to\n",
      "[nltk_data]     C:\\Users\\Wes\\AppData\\Roaming\\nltk_data...\n",
      "[nltk_data]   Package punkt is already up-to-date!\n",
      "[nltk_data] Downloading package stopwords to\n",
      "[nltk_data]     C:\\Users\\Wes\\AppData\\Roaming\\nltk_data...\n",
      "[nltk_data]   Package stopwords is already up-to-date!\n"
     ]
    },
    {
     "data": {
      "text/plain": [
       "True"
      ]
     },
     "execution_count": 1,
     "metadata": {},
     "output_type": "execute_result"
    }
   ],
   "source": [
    "import pandas as pd\n",
    "import numpy as np\n",
    "import os\n",
    "import nltk\n",
    "import sklearn\n",
    "import re  \n",
    "from sklearn.feature_extraction.text import CountVectorizer\n",
    "from sklearn.feature_extraction.text import TfidfVectorizer\n",
    "from sklearn.feature_extraction.text import TfidfTransformer\n",
    "from sklearn.cluster import KMeans\n",
    "from nltk.tokenize import word_tokenize\n",
    "from nltk.probability import FreqDist\n",
    "from nltk.corpus import stopwords\n",
    "nltk.download('punkt')\n",
    "nltk.download('stopwords')"
   ]
  },
  {
   "cell_type": "code",
   "execution_count": 2,
   "metadata": {},
   "outputs": [],
   "source": [
    "import seaborn as sns\n",
    "import matplotlib.pyplot as plt"
   ]
  },
  {
   "cell_type": "code",
   "execution_count": 3,
   "metadata": {},
   "outputs": [],
   "source": [
    "os.chdir('C:\\\\Users\\\\Wes\\\\Desktop\\\\TextMining\\\\project')"
   ]
  },
  {
   "cell_type": "code",
   "execution_count": 4,
   "metadata": {},
   "outputs": [],
   "source": [
    "df = pd.read_csv('nyc-jobs.csv')"
   ]
  },
  {
   "cell_type": "code",
   "execution_count": 5,
   "metadata": {},
   "outputs": [],
   "source": [
    "pd.set_option('display.max_columns', None)"
   ]
  },
  {
   "cell_type": "code",
   "execution_count": 6,
   "metadata": {},
   "outputs": [
    {
     "data": {
      "text/html": [
       "<div>\n",
       "<style scoped>\n",
       "    .dataframe tbody tr th:only-of-type {\n",
       "        vertical-align: middle;\n",
       "    }\n",
       "\n",
       "    .dataframe tbody tr th {\n",
       "        vertical-align: top;\n",
       "    }\n",
       "\n",
       "    .dataframe thead th {\n",
       "        text-align: right;\n",
       "    }\n",
       "</style>\n",
       "<table border=\"1\" class=\"dataframe\">\n",
       "  <thead>\n",
       "    <tr style=\"text-align: right;\">\n",
       "      <th></th>\n",
       "      <th>Job ID</th>\n",
       "      <th>Agency</th>\n",
       "      <th>Posting Type</th>\n",
       "      <th># Of Positions</th>\n",
       "      <th>Business Title</th>\n",
       "      <th>Civil Service Title</th>\n",
       "      <th>Title Code No</th>\n",
       "      <th>Level</th>\n",
       "      <th>Job Category</th>\n",
       "      <th>Full-Time/Part-Time indicator</th>\n",
       "      <th>Salary Range From</th>\n",
       "      <th>Salary Range To</th>\n",
       "      <th>Salary Frequency</th>\n",
       "      <th>Work Location</th>\n",
       "      <th>Division/Work Unit</th>\n",
       "      <th>Job Description</th>\n",
       "      <th>Minimum Qual Requirements</th>\n",
       "      <th>Preferred Skills</th>\n",
       "      <th>Additional Information</th>\n",
       "      <th>To Apply</th>\n",
       "      <th>Hours/Shift</th>\n",
       "      <th>Work Location 1</th>\n",
       "      <th>Recruitment Contact</th>\n",
       "      <th>Residency Requirement</th>\n",
       "      <th>Posting Date</th>\n",
       "      <th>Post Until</th>\n",
       "      <th>Posting Updated</th>\n",
       "      <th>Process Date</th>\n",
       "    </tr>\n",
       "  </thead>\n",
       "  <tbody>\n",
       "    <tr>\n",
       "      <th>0</th>\n",
       "      <td>87990</td>\n",
       "      <td>DEPARTMENT OF BUSINESS SERV.</td>\n",
       "      <td>Internal</td>\n",
       "      <td>1</td>\n",
       "      <td>Account Manager</td>\n",
       "      <td>CONTRACT REVIEWER (OFFICE OF L</td>\n",
       "      <td>40563</td>\n",
       "      <td>1</td>\n",
       "      <td>NaN</td>\n",
       "      <td>NaN</td>\n",
       "      <td>42405.00</td>\n",
       "      <td>65485.00</td>\n",
       "      <td>Annual</td>\n",
       "      <td>110 William St. N Y</td>\n",
       "      <td>Strategy &amp; Analytics</td>\n",
       "      <td>Division of Economic &amp; Financial Opportunity (...</td>\n",
       "      <td>1.\\tA baccalaureate degree from an accredited ...</td>\n",
       "      <td>â€¢\\tExcellent interpersonal and organizationa...</td>\n",
       "      <td>Salary range for this position is: $42,405 - $...</td>\n",
       "      <td>NaN</td>\n",
       "      <td>NaN</td>\n",
       "      <td>NaN</td>\n",
       "      <td>NaN</td>\n",
       "      <td>New York City residency is generally required ...</td>\n",
       "      <td>2011-06-24T00:00:00.000</td>\n",
       "      <td>NaN</td>\n",
       "      <td>2011-06-24T00:00:00.000</td>\n",
       "      <td>2019-07-30T00:00:00.000</td>\n",
       "    </tr>\n",
       "    <tr>\n",
       "      <th>1</th>\n",
       "      <td>97899</td>\n",
       "      <td>DEPARTMENT OF BUSINESS SERV.</td>\n",
       "      <td>Internal</td>\n",
       "      <td>1</td>\n",
       "      <td>EXECUTIVE DIRECTOR, BUSINESS DEVELOPMENT</td>\n",
       "      <td>ADMINISTRATIVE BUSINESS PROMOT</td>\n",
       "      <td>10009</td>\n",
       "      <td>M3</td>\n",
       "      <td>NaN</td>\n",
       "      <td>F</td>\n",
       "      <td>60740.00</td>\n",
       "      <td>162014.00</td>\n",
       "      <td>Annual</td>\n",
       "      <td>110 William St. N Y</td>\n",
       "      <td>Tech Talent Pipeline</td>\n",
       "      <td>The New York City Department of Small Business...</td>\n",
       "      <td>1. A baccalaureate degree from an accredited c...</td>\n",
       "      <td>NaN</td>\n",
       "      <td>NaN</td>\n",
       "      <td>In addition to applying through this website, ...</td>\n",
       "      <td>NaN</td>\n",
       "      <td>NaN</td>\n",
       "      <td>NaN</td>\n",
       "      <td>New York City residency is generally required ...</td>\n",
       "      <td>2012-01-26T00:00:00.000</td>\n",
       "      <td>NaN</td>\n",
       "      <td>2012-01-26T00:00:00.000</td>\n",
       "      <td>2019-07-30T00:00:00.000</td>\n",
       "    </tr>\n",
       "    <tr>\n",
       "      <th>2</th>\n",
       "      <td>132292</td>\n",
       "      <td>NYC HOUSING AUTHORITY</td>\n",
       "      <td>External</td>\n",
       "      <td>52</td>\n",
       "      <td>Maintenance Worker - Technical Services-Heatin...</td>\n",
       "      <td>MAINTENANCE WORKER</td>\n",
       "      <td>90698</td>\n",
       "      <td>0</td>\n",
       "      <td>Maintenance &amp; Operations</td>\n",
       "      <td>F</td>\n",
       "      <td>51907.68</td>\n",
       "      <td>54580.32</td>\n",
       "      <td>Annual</td>\n",
       "      <td>Heating Mgt-Operations</td>\n",
       "      <td>Management Services Department</td>\n",
       "      <td>Under direct supervision, assist in the routin...</td>\n",
       "      <td>1. Three years of full-time satisfactory exper...</td>\n",
       "      <td>1.  A High School Diploma or GED.  2.  CDL Dri...</td>\n",
       "      <td>1.  A Motor Vehicle Driverâ€™s License valid i...</td>\n",
       "      <td>Click the \"Apply Now\" button.</td>\n",
       "      <td>NaN</td>\n",
       "      <td>NaN</td>\n",
       "      <td>NaN</td>\n",
       "      <td>NYCHA has no residency requirements.</td>\n",
       "      <td>2013-10-24T00:00:00.000</td>\n",
       "      <td>NaN</td>\n",
       "      <td>2013-12-12T00:00:00.000</td>\n",
       "      <td>2019-07-30T00:00:00.000</td>\n",
       "    </tr>\n",
       "    <tr>\n",
       "      <th>3</th>\n",
       "      <td>132292</td>\n",
       "      <td>NYC HOUSING AUTHORITY</td>\n",
       "      <td>Internal</td>\n",
       "      <td>52</td>\n",
       "      <td>Maintenance Worker - Technical Services-Heatin...</td>\n",
       "      <td>MAINTENANCE WORKER</td>\n",
       "      <td>90698</td>\n",
       "      <td>0</td>\n",
       "      <td>Maintenance &amp; Operations</td>\n",
       "      <td>F</td>\n",
       "      <td>51907.68</td>\n",
       "      <td>54580.32</td>\n",
       "      <td>Annual</td>\n",
       "      <td>Heating Mgt-Operations</td>\n",
       "      <td>Management Services Department</td>\n",
       "      <td>Under direct supervision, assist in the routin...</td>\n",
       "      <td>1. Three years of full-time satisfactory exper...</td>\n",
       "      <td>1.  A High School Diploma or GED.  2.  CDL Dri...</td>\n",
       "      <td>1.  A Motor Vehicle Driverâ€™s License valid i...</td>\n",
       "      <td>Click the \"Apply Now\" button.</td>\n",
       "      <td>NaN</td>\n",
       "      <td>NaN</td>\n",
       "      <td>NaN</td>\n",
       "      <td>NYCHA has no residency requirements.</td>\n",
       "      <td>2013-10-24T00:00:00.000</td>\n",
       "      <td>NaN</td>\n",
       "      <td>2013-12-12T00:00:00.000</td>\n",
       "      <td>2019-07-30T00:00:00.000</td>\n",
       "    </tr>\n",
       "    <tr>\n",
       "      <th>4</th>\n",
       "      <td>133921</td>\n",
       "      <td>NYC HOUSING AUTHORITY</td>\n",
       "      <td>Internal</td>\n",
       "      <td>50</td>\n",
       "      <td>Temporary Painter</td>\n",
       "      <td>PAINTER</td>\n",
       "      <td>91830</td>\n",
       "      <td>0</td>\n",
       "      <td>Maintenance &amp; Operations</td>\n",
       "      <td>F</td>\n",
       "      <td>35.00</td>\n",
       "      <td>35.00</td>\n",
       "      <td>Hourly</td>\n",
       "      <td>DMP-Contract &amp; Analysis Unit</td>\n",
       "      <td>Dept of Management &amp; Planning</td>\n",
       "      <td>Responsibilities of selected candidates will i...</td>\n",
       "      <td>1. Five years of full-time satisfactory experi...</td>\n",
       "      <td>NaN</td>\n",
       "      <td>SPECIAL NOTE:    1.  This is a temporary assig...</td>\n",
       "      <td>Click the \"Apply Now\" button.</td>\n",
       "      <td>NaN</td>\n",
       "      <td>NaN</td>\n",
       "      <td>NaN</td>\n",
       "      <td>NYCHA has no residency requirement.</td>\n",
       "      <td>2014-01-09T00:00:00.000</td>\n",
       "      <td>NaN</td>\n",
       "      <td>2014-01-08T00:00:00.000</td>\n",
       "      <td>2019-07-30T00:00:00.000</td>\n",
       "    </tr>\n",
       "  </tbody>\n",
       "</table>\n",
       "</div>"
      ],
      "text/plain": [
       "   Job ID                        Agency Posting Type  # Of Positions  \\\n",
       "0   87990  DEPARTMENT OF BUSINESS SERV.     Internal               1   \n",
       "1   97899  DEPARTMENT OF BUSINESS SERV.     Internal               1   \n",
       "2  132292         NYC HOUSING AUTHORITY     External              52   \n",
       "3  132292         NYC HOUSING AUTHORITY     Internal              52   \n",
       "4  133921         NYC HOUSING AUTHORITY     Internal              50   \n",
       "\n",
       "                                      Business Title  \\\n",
       "0                                    Account Manager   \n",
       "1           EXECUTIVE DIRECTOR, BUSINESS DEVELOPMENT   \n",
       "2  Maintenance Worker - Technical Services-Heatin...   \n",
       "3  Maintenance Worker - Technical Services-Heatin...   \n",
       "4                                  Temporary Painter   \n",
       "\n",
       "              Civil Service Title Title Code No Level  \\\n",
       "0  CONTRACT REVIEWER (OFFICE OF L         40563     1   \n",
       "1  ADMINISTRATIVE BUSINESS PROMOT         10009    M3   \n",
       "2              MAINTENANCE WORKER         90698     0   \n",
       "3              MAINTENANCE WORKER         90698     0   \n",
       "4                         PAINTER         91830     0   \n",
       "\n",
       "               Job Category Full-Time/Part-Time indicator  Salary Range From  \\\n",
       "0                       NaN                           NaN           42405.00   \n",
       "1                       NaN                             F           60740.00   \n",
       "2  Maintenance & Operations                             F           51907.68   \n",
       "3  Maintenance & Operations                             F           51907.68   \n",
       "4  Maintenance & Operations                             F              35.00   \n",
       "\n",
       "   Salary Range To Salary Frequency                 Work Location  \\\n",
       "0         65485.00           Annual           110 William St. N Y   \n",
       "1        162014.00           Annual           110 William St. N Y   \n",
       "2         54580.32           Annual        Heating Mgt-Operations   \n",
       "3         54580.32           Annual        Heating Mgt-Operations   \n",
       "4            35.00           Hourly  DMP-Contract & Analysis Unit   \n",
       "\n",
       "               Division/Work Unit  \\\n",
       "0            Strategy & Analytics   \n",
       "1            Tech Talent Pipeline   \n",
       "2  Management Services Department   \n",
       "3  Management Services Department   \n",
       "4   Dept of Management & Planning   \n",
       "\n",
       "                                     Job Description  \\\n",
       "0  Division of Economic & Financial Opportunity (...   \n",
       "1  The New York City Department of Small Business...   \n",
       "2  Under direct supervision, assist in the routin...   \n",
       "3  Under direct supervision, assist in the routin...   \n",
       "4  Responsibilities of selected candidates will i...   \n",
       "\n",
       "                           Minimum Qual Requirements  \\\n",
       "0  1.\\tA baccalaureate degree from an accredited ...   \n",
       "1  1. A baccalaureate degree from an accredited c...   \n",
       "2  1. Three years of full-time satisfactory exper...   \n",
       "3  1. Three years of full-time satisfactory exper...   \n",
       "4  1. Five years of full-time satisfactory experi...   \n",
       "\n",
       "                                    Preferred Skills  \\\n",
       "0  â€¢\\tExcellent interpersonal and organizationa...   \n",
       "1                                                NaN   \n",
       "2  1.  A High School Diploma or GED.  2.  CDL Dri...   \n",
       "3  1.  A High School Diploma or GED.  2.  CDL Dri...   \n",
       "4                                                NaN   \n",
       "\n",
       "                              Additional Information  \\\n",
       "0  Salary range for this position is: $42,405 - $...   \n",
       "1                                                NaN   \n",
       "2  1.  A Motor Vehicle Driverâ€™s License valid i...   \n",
       "3  1.  A Motor Vehicle Driverâ€™s License valid i...   \n",
       "4  SPECIAL NOTE:    1.  This is a temporary assig...   \n",
       "\n",
       "                                            To Apply Hours/Shift  \\\n",
       "0                                                NaN         NaN   \n",
       "1  In addition to applying through this website, ...         NaN   \n",
       "2                      Click the \"Apply Now\" button.         NaN   \n",
       "3                      Click the \"Apply Now\" button.         NaN   \n",
       "4                      Click the \"Apply Now\" button.         NaN   \n",
       "\n",
       "  Work Location 1  Recruitment Contact  \\\n",
       "0             NaN                  NaN   \n",
       "1             NaN                  NaN   \n",
       "2             NaN                  NaN   \n",
       "3             NaN                  NaN   \n",
       "4             NaN                  NaN   \n",
       "\n",
       "                               Residency Requirement             Posting Date  \\\n",
       "0  New York City residency is generally required ...  2011-06-24T00:00:00.000   \n",
       "1  New York City residency is generally required ...  2012-01-26T00:00:00.000   \n",
       "2               NYCHA has no residency requirements.  2013-10-24T00:00:00.000   \n",
       "3               NYCHA has no residency requirements.  2013-10-24T00:00:00.000   \n",
       "4                NYCHA has no residency requirement.  2014-01-09T00:00:00.000   \n",
       "\n",
       "  Post Until          Posting Updated             Process Date  \n",
       "0        NaN  2011-06-24T00:00:00.000  2019-07-30T00:00:00.000  \n",
       "1        NaN  2012-01-26T00:00:00.000  2019-07-30T00:00:00.000  \n",
       "2        NaN  2013-12-12T00:00:00.000  2019-07-30T00:00:00.000  \n",
       "3        NaN  2013-12-12T00:00:00.000  2019-07-30T00:00:00.000  \n",
       "4        NaN  2014-01-08T00:00:00.000  2019-07-30T00:00:00.000  "
      ]
     },
     "execution_count": 6,
     "metadata": {},
     "output_type": "execute_result"
    }
   ],
   "source": [
    "df.head()"
   ]
  },
  {
   "cell_type": "code",
   "execution_count": 7,
   "metadata": {},
   "outputs": [],
   "source": [
    "df.drop(['Job ID', 'Posting Type', 'Business Title', 'Full-Time/Part-Time indicator', 'Hours/Shift',\n",
    "         'Work Location 1', 'Recruitment Contact', 'Residency Requirement', 'Posting Date', 'Post Until',\n",
    "        'Posting Updated', 'Process Date', 'To Apply'], axis=1, inplace=True)"
   ]
  },
  {
   "cell_type": "code",
   "execution_count": 8,
   "metadata": {},
   "outputs": [
    {
     "data": {
      "text/html": [
       "<div>\n",
       "<style scoped>\n",
       "    .dataframe tbody tr th:only-of-type {\n",
       "        vertical-align: middle;\n",
       "    }\n",
       "\n",
       "    .dataframe tbody tr th {\n",
       "        vertical-align: top;\n",
       "    }\n",
       "\n",
       "    .dataframe thead th {\n",
       "        text-align: right;\n",
       "    }\n",
       "</style>\n",
       "<table border=\"1\" class=\"dataframe\">\n",
       "  <thead>\n",
       "    <tr style=\"text-align: right;\">\n",
       "      <th></th>\n",
       "      <th>Agency</th>\n",
       "      <th># Of Positions</th>\n",
       "      <th>Civil Service Title</th>\n",
       "      <th>Title Code No</th>\n",
       "      <th>Level</th>\n",
       "      <th>Job Category</th>\n",
       "      <th>Salary Range From</th>\n",
       "      <th>Salary Range To</th>\n",
       "      <th>Salary Frequency</th>\n",
       "      <th>Work Location</th>\n",
       "      <th>Division/Work Unit</th>\n",
       "      <th>Job Description</th>\n",
       "      <th>Minimum Qual Requirements</th>\n",
       "      <th>Preferred Skills</th>\n",
       "      <th>Additional Information</th>\n",
       "    </tr>\n",
       "  </thead>\n",
       "  <tbody>\n",
       "    <tr>\n",
       "      <th>0</th>\n",
       "      <td>DEPARTMENT OF BUSINESS SERV.</td>\n",
       "      <td>1</td>\n",
       "      <td>CONTRACT REVIEWER (OFFICE OF L</td>\n",
       "      <td>40563</td>\n",
       "      <td>1</td>\n",
       "      <td>NaN</td>\n",
       "      <td>42405.00</td>\n",
       "      <td>65485.00</td>\n",
       "      <td>Annual</td>\n",
       "      <td>110 William St. N Y</td>\n",
       "      <td>Strategy &amp; Analytics</td>\n",
       "      <td>Division of Economic &amp; Financial Opportunity (...</td>\n",
       "      <td>1.\\tA baccalaureate degree from an accredited ...</td>\n",
       "      <td>â€¢\\tExcellent interpersonal and organizationa...</td>\n",
       "      <td>Salary range for this position is: $42,405 - $...</td>\n",
       "    </tr>\n",
       "    <tr>\n",
       "      <th>1</th>\n",
       "      <td>DEPARTMENT OF BUSINESS SERV.</td>\n",
       "      <td>1</td>\n",
       "      <td>ADMINISTRATIVE BUSINESS PROMOT</td>\n",
       "      <td>10009</td>\n",
       "      <td>M3</td>\n",
       "      <td>NaN</td>\n",
       "      <td>60740.00</td>\n",
       "      <td>162014.00</td>\n",
       "      <td>Annual</td>\n",
       "      <td>110 William St. N Y</td>\n",
       "      <td>Tech Talent Pipeline</td>\n",
       "      <td>The New York City Department of Small Business...</td>\n",
       "      <td>1. A baccalaureate degree from an accredited c...</td>\n",
       "      <td>NaN</td>\n",
       "      <td>NaN</td>\n",
       "    </tr>\n",
       "    <tr>\n",
       "      <th>2</th>\n",
       "      <td>NYC HOUSING AUTHORITY</td>\n",
       "      <td>52</td>\n",
       "      <td>MAINTENANCE WORKER</td>\n",
       "      <td>90698</td>\n",
       "      <td>0</td>\n",
       "      <td>Maintenance &amp; Operations</td>\n",
       "      <td>51907.68</td>\n",
       "      <td>54580.32</td>\n",
       "      <td>Annual</td>\n",
       "      <td>Heating Mgt-Operations</td>\n",
       "      <td>Management Services Department</td>\n",
       "      <td>Under direct supervision, assist in the routin...</td>\n",
       "      <td>1. Three years of full-time satisfactory exper...</td>\n",
       "      <td>1.  A High School Diploma or GED.  2.  CDL Dri...</td>\n",
       "      <td>1.  A Motor Vehicle Driverâ€™s License valid i...</td>\n",
       "    </tr>\n",
       "    <tr>\n",
       "      <th>3</th>\n",
       "      <td>NYC HOUSING AUTHORITY</td>\n",
       "      <td>52</td>\n",
       "      <td>MAINTENANCE WORKER</td>\n",
       "      <td>90698</td>\n",
       "      <td>0</td>\n",
       "      <td>Maintenance &amp; Operations</td>\n",
       "      <td>51907.68</td>\n",
       "      <td>54580.32</td>\n",
       "      <td>Annual</td>\n",
       "      <td>Heating Mgt-Operations</td>\n",
       "      <td>Management Services Department</td>\n",
       "      <td>Under direct supervision, assist in the routin...</td>\n",
       "      <td>1. Three years of full-time satisfactory exper...</td>\n",
       "      <td>1.  A High School Diploma or GED.  2.  CDL Dri...</td>\n",
       "      <td>1.  A Motor Vehicle Driverâ€™s License valid i...</td>\n",
       "    </tr>\n",
       "    <tr>\n",
       "      <th>4</th>\n",
       "      <td>NYC HOUSING AUTHORITY</td>\n",
       "      <td>50</td>\n",
       "      <td>PAINTER</td>\n",
       "      <td>91830</td>\n",
       "      <td>0</td>\n",
       "      <td>Maintenance &amp; Operations</td>\n",
       "      <td>35.00</td>\n",
       "      <td>35.00</td>\n",
       "      <td>Hourly</td>\n",
       "      <td>DMP-Contract &amp; Analysis Unit</td>\n",
       "      <td>Dept of Management &amp; Planning</td>\n",
       "      <td>Responsibilities of selected candidates will i...</td>\n",
       "      <td>1. Five years of full-time satisfactory experi...</td>\n",
       "      <td>NaN</td>\n",
       "      <td>SPECIAL NOTE:    1.  This is a temporary assig...</td>\n",
       "    </tr>\n",
       "  </tbody>\n",
       "</table>\n",
       "</div>"
      ],
      "text/plain": [
       "                         Agency  # Of Positions  \\\n",
       "0  DEPARTMENT OF BUSINESS SERV.               1   \n",
       "1  DEPARTMENT OF BUSINESS SERV.               1   \n",
       "2         NYC HOUSING AUTHORITY              52   \n",
       "3         NYC HOUSING AUTHORITY              52   \n",
       "4         NYC HOUSING AUTHORITY              50   \n",
       "\n",
       "              Civil Service Title Title Code No Level  \\\n",
       "0  CONTRACT REVIEWER (OFFICE OF L         40563     1   \n",
       "1  ADMINISTRATIVE BUSINESS PROMOT         10009    M3   \n",
       "2              MAINTENANCE WORKER         90698     0   \n",
       "3              MAINTENANCE WORKER         90698     0   \n",
       "4                         PAINTER         91830     0   \n",
       "\n",
       "               Job Category  Salary Range From  Salary Range To  \\\n",
       "0                       NaN           42405.00         65485.00   \n",
       "1                       NaN           60740.00        162014.00   \n",
       "2  Maintenance & Operations           51907.68         54580.32   \n",
       "3  Maintenance & Operations           51907.68         54580.32   \n",
       "4  Maintenance & Operations              35.00            35.00   \n",
       "\n",
       "  Salary Frequency                 Work Location  \\\n",
       "0           Annual           110 William St. N Y   \n",
       "1           Annual           110 William St. N Y   \n",
       "2           Annual        Heating Mgt-Operations   \n",
       "3           Annual        Heating Mgt-Operations   \n",
       "4           Hourly  DMP-Contract & Analysis Unit   \n",
       "\n",
       "               Division/Work Unit  \\\n",
       "0            Strategy & Analytics   \n",
       "1            Tech Talent Pipeline   \n",
       "2  Management Services Department   \n",
       "3  Management Services Department   \n",
       "4   Dept of Management & Planning   \n",
       "\n",
       "                                     Job Description  \\\n",
       "0  Division of Economic & Financial Opportunity (...   \n",
       "1  The New York City Department of Small Business...   \n",
       "2  Under direct supervision, assist in the routin...   \n",
       "3  Under direct supervision, assist in the routin...   \n",
       "4  Responsibilities of selected candidates will i...   \n",
       "\n",
       "                           Minimum Qual Requirements  \\\n",
       "0  1.\\tA baccalaureate degree from an accredited ...   \n",
       "1  1. A baccalaureate degree from an accredited c...   \n",
       "2  1. Three years of full-time satisfactory exper...   \n",
       "3  1. Three years of full-time satisfactory exper...   \n",
       "4  1. Five years of full-time satisfactory experi...   \n",
       "\n",
       "                                    Preferred Skills  \\\n",
       "0  â€¢\\tExcellent interpersonal and organizationa...   \n",
       "1                                                NaN   \n",
       "2  1.  A High School Diploma or GED.  2.  CDL Dri...   \n",
       "3  1.  A High School Diploma or GED.  2.  CDL Dri...   \n",
       "4                                                NaN   \n",
       "\n",
       "                              Additional Information  \n",
       "0  Salary range for this position is: $42,405 - $...  \n",
       "1                                                NaN  \n",
       "2  1.  A Motor Vehicle Driverâ€™s License valid i...  \n",
       "3  1.  A Motor Vehicle Driverâ€™s License valid i...  \n",
       "4  SPECIAL NOTE:    1.  This is a temporary assig...  "
      ]
     },
     "execution_count": 8,
     "metadata": {},
     "output_type": "execute_result"
    }
   ],
   "source": [
    "df.head()"
   ]
  },
  {
   "cell_type": "code",
   "execution_count": 9,
   "metadata": {},
   "outputs": [
    {
     "data": {
      "text/plain": [
       "<matplotlib.axes._subplots.AxesSubplot at 0x223ed27deb8>"
      ]
     },
     "execution_count": 9,
     "metadata": {},
     "output_type": "execute_result"
    },
    {
     "data": {
      "image/png": "[encoded data removed]",
      "text/plain": [
       "<Figure size 432x288 with 1 Axes>"
      ]
     },
     "metadata": {
      "needs_background": "light"
     },
     "output_type": "display_data"
    }
   ],
   "source": [
    "sns.countplot(x='Salary Frequency', data=df)"
   ]
  },
  {
   "cell_type": "code",
   "execution_count": 10,
   "metadata": {},
   "outputs": [
    {
     "data": {
      "text/plain": [
       "<matplotlib.axes._subplots.AxesSubplot at 0x223ed3220b8>"
      ]
     },
     "execution_count": 10,
     "metadata": {},
     "output_type": "execute_result"
    },
    {
     "data": {
      "image/png": "[encoded data removed]",
      "text/plain": [
       "<Figure size 432x288 with 1 Axes>"
      ]
     },
     "metadata": {
      "needs_background": "light"
     },
     "output_type": "display_data"
    }
   ],
   "source": [
    "CivilTitlesFreq = df['Civil Service Title'].value_counts()\n",
    "TopCivilFreqs = CivilTitlesFreq.iloc[:10]\n",
    "sns.countplot(y='Civil Service Title', data=df, order=TopCivilFreqs.index)"
   ]
  },
  {
   "cell_type": "code",
   "execution_count": 11,
   "metadata": {},
   "outputs": [
    {
     "data": {
      "text/plain": [
       "12"
      ]
     },
     "execution_count": 11,
     "metadata": {},
     "output_type": "execute_result"
    }
   ],
   "source": [
    "df['Minimum Qual Requirements'].isnull().sum()"
   ]
  },
  {
   "cell_type": "code",
   "execution_count": 12,
   "metadata": {},
   "outputs": [
    {
     "data": {
      "text/plain": [
       "0"
      ]
     },
     "execution_count": 12,
     "metadata": {},
     "output_type": "execute_result"
    }
   ],
   "source": [
    "df['Job Description'].isnull().sum()"
   ]
  },
  {
   "cell_type": "code",
   "execution_count": 13,
   "metadata": {},
   "outputs": [],
   "source": [
    "cols1 = ['Salary Range From','Salary Range To']\n",
    "df['average salary'] = df[cols1].astype(float).mean(axis=1)"
   ]
  },
  {
   "cell_type": "code",
   "execution_count": 14,
   "metadata": {},
   "outputs": [
    {
     "data": {
      "text/html": [
       "<div>\n",
       "<style scoped>\n",
       "    .dataframe tbody tr th:only-of-type {\n",
       "        vertical-align: middle;\n",
       "    }\n",
       "\n",
       "    .dataframe tbody tr th {\n",
       "        vertical-align: top;\n",
       "    }\n",
       "\n",
       "    .dataframe thead th {\n",
       "        text-align: right;\n",
       "    }\n",
       "</style>\n",
       "<table border=\"1\" class=\"dataframe\">\n",
       "  <thead>\n",
       "    <tr style=\"text-align: right;\">\n",
       "      <th></th>\n",
       "      <th>Agency</th>\n",
       "      <th># Of Positions</th>\n",
       "      <th>Civil Service Title</th>\n",
       "      <th>Title Code No</th>\n",
       "      <th>Level</th>\n",
       "      <th>Job Category</th>\n",
       "      <th>Salary Range From</th>\n",
       "      <th>Salary Range To</th>\n",
       "      <th>Salary Frequency</th>\n",
       "      <th>Work Location</th>\n",
       "      <th>Division/Work Unit</th>\n",
       "      <th>Job Description</th>\n",
       "      <th>Minimum Qual Requirements</th>\n",
       "      <th>Preferred Skills</th>\n",
       "      <th>Additional Information</th>\n",
       "      <th>average salary</th>\n",
       "    </tr>\n",
       "  </thead>\n",
       "  <tbody>\n",
       "    <tr>\n",
       "      <th>0</th>\n",
       "      <td>DEPARTMENT OF BUSINESS SERV.</td>\n",
       "      <td>1</td>\n",
       "      <td>CONTRACT REVIEWER (OFFICE OF L</td>\n",
       "      <td>40563</td>\n",
       "      <td>1</td>\n",
       "      <td>NaN</td>\n",
       "      <td>42405.00</td>\n",
       "      <td>65485.00</td>\n",
       "      <td>Annual</td>\n",
       "      <td>110 William St. N Y</td>\n",
       "      <td>Strategy &amp; Analytics</td>\n",
       "      <td>Division of Economic &amp; Financial Opportunity (...</td>\n",
       "      <td>1.\\tA baccalaureate degree from an accredited ...</td>\n",
       "      <td>â€¢\\tExcellent interpersonal and organizationa...</td>\n",
       "      <td>Salary range for this position is: $42,405 - $...</td>\n",
       "      <td>53945.0</td>\n",
       "    </tr>\n",
       "    <tr>\n",
       "      <th>1</th>\n",
       "      <td>DEPARTMENT OF BUSINESS SERV.</td>\n",
       "      <td>1</td>\n",
       "      <td>ADMINISTRATIVE BUSINESS PROMOT</td>\n",
       "      <td>10009</td>\n",
       "      <td>M3</td>\n",
       "      <td>NaN</td>\n",
       "      <td>60740.00</td>\n",
       "      <td>162014.00</td>\n",
       "      <td>Annual</td>\n",
       "      <td>110 William St. N Y</td>\n",
       "      <td>Tech Talent Pipeline</td>\n",
       "      <td>The New York City Department of Small Business...</td>\n",
       "      <td>1. A baccalaureate degree from an accredited c...</td>\n",
       "      <td>NaN</td>\n",
       "      <td>NaN</td>\n",
       "      <td>111377.0</td>\n",
       "    </tr>\n",
       "    <tr>\n",
       "      <th>2</th>\n",
       "      <td>NYC HOUSING AUTHORITY</td>\n",
       "      <td>52</td>\n",
       "      <td>MAINTENANCE WORKER</td>\n",
       "      <td>90698</td>\n",
       "      <td>0</td>\n",
       "      <td>Maintenance &amp; Operations</td>\n",
       "      <td>51907.68</td>\n",
       "      <td>54580.32</td>\n",
       "      <td>Annual</td>\n",
       "      <td>Heating Mgt-Operations</td>\n",
       "      <td>Management Services Department</td>\n",
       "      <td>Under direct supervision, assist in the routin...</td>\n",
       "      <td>1. Three years of full-time satisfactory exper...</td>\n",
       "      <td>1.  A High School Diploma or GED.  2.  CDL Dri...</td>\n",
       "      <td>1.  A Motor Vehicle Driverâ€™s License valid i...</td>\n",
       "      <td>53244.0</td>\n",
       "    </tr>\n",
       "    <tr>\n",
       "      <th>3</th>\n",
       "      <td>NYC HOUSING AUTHORITY</td>\n",
       "      <td>52</td>\n",
       "      <td>MAINTENANCE WORKER</td>\n",
       "      <td>90698</td>\n",
       "      <td>0</td>\n",
       "      <td>Maintenance &amp; Operations</td>\n",
       "      <td>51907.68</td>\n",
       "      <td>54580.32</td>\n",
       "      <td>Annual</td>\n",
       "      <td>Heating Mgt-Operations</td>\n",
       "      <td>Management Services Department</td>\n",
       "      <td>Under direct supervision, assist in the routin...</td>\n",
       "      <td>1. Three years of full-time satisfactory exper...</td>\n",
       "      <td>1.  A High School Diploma or GED.  2.  CDL Dri...</td>\n",
       "      <td>1.  A Motor Vehicle Driverâ€™s License valid i...</td>\n",
       "      <td>53244.0</td>\n",
       "    </tr>\n",
       "    <tr>\n",
       "      <th>4</th>\n",
       "      <td>NYC HOUSING AUTHORITY</td>\n",
       "      <td>50</td>\n",
       "      <td>PAINTER</td>\n",
       "      <td>91830</td>\n",
       "      <td>0</td>\n",
       "      <td>Maintenance &amp; Operations</td>\n",
       "      <td>35.00</td>\n",
       "      <td>35.00</td>\n",
       "      <td>Hourly</td>\n",
       "      <td>DMP-Contract &amp; Analysis Unit</td>\n",
       "      <td>Dept of Management &amp; Planning</td>\n",
       "      <td>Responsibilities of selected candidates will i...</td>\n",
       "      <td>1. Five years of full-time satisfactory experi...</td>\n",
       "      <td>NaN</td>\n",
       "      <td>SPECIAL NOTE:    1.  This is a temporary assig...</td>\n",
       "      <td>35.0</td>\n",
       "    </tr>\n",
       "    <tr>\n",
       "      <th>5</th>\n",
       "      <td>NYC HOUSING AUTHORITY</td>\n",
       "      <td>50</td>\n",
       "      <td>PAINTER</td>\n",
       "      <td>91830</td>\n",
       "      <td>0</td>\n",
       "      <td>Maintenance &amp; Operations</td>\n",
       "      <td>35.00</td>\n",
       "      <td>35.00</td>\n",
       "      <td>Hourly</td>\n",
       "      <td>DMP-Contract &amp; Analysis Unit</td>\n",
       "      <td>Dept of Management &amp; Planning</td>\n",
       "      <td>Responsibilities of selected candidates will i...</td>\n",
       "      <td>1. Five years of full-time satisfactory experi...</td>\n",
       "      <td>NaN</td>\n",
       "      <td>SPECIAL NOTE:    1.  This is a temporary assig...</td>\n",
       "      <td>35.0</td>\n",
       "    </tr>\n",
       "    <tr>\n",
       "      <th>6</th>\n",
       "      <td>DEPT OF HEALTH/MENTAL HYGIENE</td>\n",
       "      <td>1</td>\n",
       "      <td>PROCUREMENT ANALYST</td>\n",
       "      <td>12158</td>\n",
       "      <td>3</td>\n",
       "      <td>Finance, Accounting, &amp; Procurement</td>\n",
       "      <td>50598.00</td>\n",
       "      <td>85053.00</td>\n",
       "      <td>Annual</td>\n",
       "      <td>42-09 28th Street</td>\n",
       "      <td>HIV Administration</td>\n",
       "      <td>** OPEN TO PERMANENT PROCUREMENT ANALYSTS ONLY...</td>\n",
       "      <td>1. A baccalaureate degree from an accredited c...</td>\n",
       "      <td>Strong analytical background;  advanced profic...</td>\n",
       "      <td>NaN</td>\n",
       "      <td>67825.5</td>\n",
       "    </tr>\n",
       "    <tr>\n",
       "      <th>7</th>\n",
       "      <td>DEPT OF ENVIRONMENT PROTECTION</td>\n",
       "      <td>1</td>\n",
       "      <td>ASSOCIATE CHEMIST</td>\n",
       "      <td>21822</td>\n",
       "      <td>2</td>\n",
       "      <td>Health Public Safety, Inspections, &amp; Enforcement</td>\n",
       "      <td>50623.00</td>\n",
       "      <td>75083.00</td>\n",
       "      <td>Annual</td>\n",
       "      <td>96-05 Horace Harding Expway</td>\n",
       "      <td>DWOC Labs-Lefrak</td>\n",
       "      <td>Working in the Distribution Water Quality Oper...</td>\n",
       "      <td>Qualification Requirements  A baccalaureate de...</td>\n",
       "      <td>In order to apply for this position, the candi...</td>\n",
       "      <td>NaN</td>\n",
       "      <td>62853.0</td>\n",
       "    </tr>\n",
       "    <tr>\n",
       "      <th>8</th>\n",
       "      <td>NYC HOUSING AUTHORITY</td>\n",
       "      <td>1</td>\n",
       "      <td>ADMINISTRATIVE STAFF ANALYST (</td>\n",
       "      <td>1002D</td>\n",
       "      <td>0</td>\n",
       "      <td>Engineering, Architecture, &amp; Planning</td>\n",
       "      <td>90000.00</td>\n",
       "      <td>110000.00</td>\n",
       "      <td>Annual</td>\n",
       "      <td>CP Cap Plan-Technical Planning</td>\n",
       "      <td>Capital Planning Dept</td>\n",
       "      <td>Reporting to the Deputy Director of Technical ...</td>\n",
       "      <td>1. A master's degree from an accredited colleg...</td>\n",
       "      <td>1.  Five years of managerial and supervisory e...</td>\n",
       "      <td>SPECIAL INSTRUCTIONS FOR NYCHA EMPLOYEES:    N...</td>\n",
       "      <td>100000.0</td>\n",
       "    </tr>\n",
       "    <tr>\n",
       "      <th>9</th>\n",
       "      <td>NYC HOUSING AUTHORITY</td>\n",
       "      <td>4</td>\n",
       "      <td>ASSOCIATE PROJECT MANAGER</td>\n",
       "      <td>22427</td>\n",
       "      <td>2</td>\n",
       "      <td>Engineering, Architecture, &amp; Planning</td>\n",
       "      <td>62942.00</td>\n",
       "      <td>92249.00</td>\n",
       "      <td>Annual</td>\n",
       "      <td>Office for Exec Proj Manager</td>\n",
       "      <td>Project Mgmt Dept Team 3</td>\n",
       "      <td>The Assistant Project Manager will provide sup...</td>\n",
       "      <td>One year of full-time satisfactory experience ...</td>\n",
       "      <td>1.  Five (5) plus years managing construction ...</td>\n",
       "      <td>SPECIAL INSTRUCTIONS FOR NYCHA EMPLOYEES:    N...</td>\n",
       "      <td>77595.5</td>\n",
       "    </tr>\n",
       "  </tbody>\n",
       "</table>\n",
       "</div>"
      ],
      "text/plain": [
       "                           Agency  # Of Positions  \\\n",
       "0    DEPARTMENT OF BUSINESS SERV.               1   \n",
       "1    DEPARTMENT OF BUSINESS SERV.               1   \n",
       "2           NYC HOUSING AUTHORITY              52   \n",
       "3           NYC HOUSING AUTHORITY              52   \n",
       "4           NYC HOUSING AUTHORITY              50   \n",
       "5           NYC HOUSING AUTHORITY              50   \n",
       "6   DEPT OF HEALTH/MENTAL HYGIENE               1   \n",
       "7  DEPT OF ENVIRONMENT PROTECTION               1   \n",
       "8           NYC HOUSING AUTHORITY               1   \n",
       "9           NYC HOUSING AUTHORITY               4   \n",
       "\n",
       "              Civil Service Title Title Code No Level  \\\n",
       "0  CONTRACT REVIEWER (OFFICE OF L         40563     1   \n",
       "1  ADMINISTRATIVE BUSINESS PROMOT         10009    M3   \n",
       "2              MAINTENANCE WORKER         90698     0   \n",
       "3              MAINTENANCE WORKER         90698     0   \n",
       "4                         PAINTER         91830     0   \n",
       "5                         PAINTER         91830     0   \n",
       "6             PROCUREMENT ANALYST         12158     3   \n",
       "7               ASSOCIATE CHEMIST         21822     2   \n",
       "8  ADMINISTRATIVE STAFF ANALYST (         1002D     0   \n",
       "9       ASSOCIATE PROJECT MANAGER         22427     2   \n",
       "\n",
       "                                       Job Category  Salary Range From  \\\n",
       "0                                               NaN           42405.00   \n",
       "1                                               NaN           60740.00   \n",
       "2                          Maintenance & Operations           51907.68   \n",
       "3                          Maintenance & Operations           51907.68   \n",
       "4                          Maintenance & Operations              35.00   \n",
       "5                          Maintenance & Operations              35.00   \n",
       "6                Finance, Accounting, & Procurement           50598.00   \n",
       "7  Health Public Safety, Inspections, & Enforcement           50623.00   \n",
       "8             Engineering, Architecture, & Planning           90000.00   \n",
       "9             Engineering, Architecture, & Planning           62942.00   \n",
       "\n",
       "   Salary Range To Salary Frequency                   Work Location  \\\n",
       "0         65485.00           Annual             110 William St. N Y   \n",
       "1        162014.00           Annual             110 William St. N Y   \n",
       "2         54580.32           Annual          Heating Mgt-Operations   \n",
       "3         54580.32           Annual          Heating Mgt-Operations   \n",
       "4            35.00           Hourly    DMP-Contract & Analysis Unit   \n",
       "5            35.00           Hourly    DMP-Contract & Analysis Unit   \n",
       "6         85053.00           Annual               42-09 28th Street   \n",
       "7         75083.00           Annual     96-05 Horace Harding Expway   \n",
       "8        110000.00           Annual  CP Cap Plan-Technical Planning   \n",
       "9         92249.00           Annual    Office for Exec Proj Manager   \n",
       "\n",
       "               Division/Work Unit  \\\n",
       "0            Strategy & Analytics   \n",
       "1            Tech Talent Pipeline   \n",
       "2  Management Services Department   \n",
       "3  Management Services Department   \n",
       "4   Dept of Management & Planning   \n",
       "5   Dept of Management & Planning   \n",
       "6              HIV Administration   \n",
       "7                DWOC Labs-Lefrak   \n",
       "8           Capital Planning Dept   \n",
       "9        Project Mgmt Dept Team 3   \n",
       "\n",
       "                                     Job Description  \\\n",
       "0  Division of Economic & Financial Opportunity (...   \n",
       "1  The New York City Department of Small Business...   \n",
       "2  Under direct supervision, assist in the routin...   \n",
       "3  Under direct supervision, assist in the routin...   \n",
       "4  Responsibilities of selected candidates will i...   \n",
       "5  Responsibilities of selected candidates will i...   \n",
       "6  ** OPEN TO PERMANENT PROCUREMENT ANALYSTS ONLY...   \n",
       "7  Working in the Distribution Water Quality Oper...   \n",
       "8  Reporting to the Deputy Director of Technical ...   \n",
       "9  The Assistant Project Manager will provide sup...   \n",
       "\n",
       "                           Minimum Qual Requirements  \\\n",
       "0  1.\\tA baccalaureate degree from an accredited ...   \n",
       "1  1. A baccalaureate degree from an accredited c...   \n",
       "2  1. Three years of full-time satisfactory exper...   \n",
       "3  1. Three years of full-time satisfactory exper...   \n",
       "4  1. Five years of full-time satisfactory experi...   \n",
       "5  1. Five years of full-time satisfactory experi...   \n",
       "6  1. A baccalaureate degree from an accredited c...   \n",
       "7  Qualification Requirements  A baccalaureate de...   \n",
       "8  1. A master's degree from an accredited colleg...   \n",
       "9  One year of full-time satisfactory experience ...   \n",
       "\n",
       "                                    Preferred Skills  \\\n",
       "0  â€¢\\tExcellent interpersonal and organizationa...   \n",
       "1                                                NaN   \n",
       "2  1.  A High School Diploma or GED.  2.  CDL Dri...   \n",
       "3  1.  A High School Diploma or GED.  2.  CDL Dri...   \n",
       "4                                                NaN   \n",
       "5                                                NaN   \n",
       "6  Strong analytical background;  advanced profic...   \n",
       "7  In order to apply for this position, the candi...   \n",
       "8  1.  Five years of managerial and supervisory e...   \n",
       "9  1.  Five (5) plus years managing construction ...   \n",
       "\n",
       "                              Additional Information  average salary  \n",
       "0  Salary range for this position is: $42,405 - $...         53945.0  \n",
       "1                                                NaN        111377.0  \n",
       "2  1.  A Motor Vehicle Driverâ€™s License valid i...         53244.0  \n",
       "3  1.  A Motor Vehicle Driverâ€™s License valid i...         53244.0  \n",
       "4  SPECIAL NOTE:    1.  This is a temporary assig...            35.0  \n",
       "5  SPECIAL NOTE:    1.  This is a temporary assig...            35.0  \n",
       "6                                                NaN         67825.5  \n",
       "7                                                NaN         62853.0  \n",
       "8  SPECIAL INSTRUCTIONS FOR NYCHA EMPLOYEES:    N...        100000.0  \n",
       "9  SPECIAL INSTRUCTIONS FOR NYCHA EMPLOYEES:    N...         77595.5  "
      ]
     },
     "execution_count": 14,
     "metadata": {},
     "output_type": "execute_result"
    }
   ],
   "source": [
    "df.head(n=10)"
   ]
  },
  {
   "cell_type": "code",
   "execution_count": 15,
   "metadata": {},
   "outputs": [
    {
     "name": "stderr",
     "output_type": "stream",
     "text": [
      "C:\\Users\\Wes\\Anaconda37\\lib\\site-packages\\scipy\\stats\\stats.py:1713: FutureWarning: Using a non-tuple sequence for multidimensional indexing is deprecated; use `arr[tuple(seq)]` instead of `arr[seq]`. In the future this will be interpreted as an array index, `arr[np.array(seq)]`, which will result either in an error or a different result.\n",
      "  return np.add.reduce(sorted[indexer] * weights, axis=axis) / sumval\n"
     ]
    },
    {
     "data": {
      "text/plain": [
       "Text(0, 0.5, 'Frequency')"
      ]
     },
     "execution_count": 15,
     "metadata": {},
     "output_type": "execute_result"
    },
    {
     "data": {
      "image/png": "[encoded data removed]",
      "text/plain": [
       "<Figure size 432x288 with 1 Axes>"
      ]
     },
     "metadata": {
      "needs_background": "light"
     },
     "output_type": "display_data"
    }
   ],
   "source": [
    "dplot1 = sns.distplot(df['average salary'])\n",
    "plt.xlabel(\"average salary\", fontsize=20)\n",
    "plt.ylabel(\"Frequency\",fontsize=20)\n"
   ]
  },
  {
   "cell_type": "code",
   "execution_count": 16,
   "metadata": {},
   "outputs": [
    {
     "data": {
      "text/html": [
       "<div>\n",
       "<style scoped>\n",
       "    .dataframe tbody tr th:only-of-type {\n",
       "        vertical-align: middle;\n",
       "    }\n",
       "\n",
       "    .dataframe tbody tr th {\n",
       "        vertical-align: top;\n",
       "    }\n",
       "\n",
       "    .dataframe thead th {\n",
       "        text-align: right;\n",
       "    }\n",
       "</style>\n",
       "<table border=\"1\" class=\"dataframe\">\n",
       "  <thead>\n",
       "    <tr style=\"text-align: right;\">\n",
       "      <th></th>\n",
       "      <th># Of Positions</th>\n",
       "      <th>Salary Range From</th>\n",
       "      <th>Salary Range To</th>\n",
       "      <th>average salary</th>\n",
       "    </tr>\n",
       "  </thead>\n",
       "  <tbody>\n",
       "    <tr>\n",
       "      <th>count</th>\n",
       "      <td>3123.000000</td>\n",
       "      <td>3123.000000</td>\n",
       "      <td>3123.000000</td>\n",
       "      <td>3123.000000</td>\n",
       "    </tr>\n",
       "    <tr>\n",
       "      <th>mean</th>\n",
       "      <td>2.623759</td>\n",
       "      <td>58670.745122</td>\n",
       "      <td>85954.696654</td>\n",
       "      <td>72312.720888</td>\n",
       "    </tr>\n",
       "    <tr>\n",
       "      <th>std</th>\n",
       "      <td>8.947260</td>\n",
       "      <td>26985.651698</td>\n",
       "      <td>44137.810552</td>\n",
       "      <td>33309.032337</td>\n",
       "    </tr>\n",
       "    <tr>\n",
       "      <th>min</th>\n",
       "      <td>1.000000</td>\n",
       "      <td>0.000000</td>\n",
       "      <td>10.360000</td>\n",
       "      <td>9.555000</td>\n",
       "    </tr>\n",
       "    <tr>\n",
       "      <th>25%</th>\n",
       "      <td>1.000000</td>\n",
       "      <td>49390.000000</td>\n",
       "      <td>61936.000000</td>\n",
       "      <td>56310.750000</td>\n",
       "    </tr>\n",
       "    <tr>\n",
       "      <th>50%</th>\n",
       "      <td>1.000000</td>\n",
       "      <td>58152.000000</td>\n",
       "      <td>81535.000000</td>\n",
       "      <td>70717.000000</td>\n",
       "    </tr>\n",
       "    <tr>\n",
       "      <th>75%</th>\n",
       "      <td>1.000000</td>\n",
       "      <td>72476.000000</td>\n",
       "      <td>106222.000000</td>\n",
       "      <td>90000.000000</td>\n",
       "    </tr>\n",
       "    <tr>\n",
       "      <th>max</th>\n",
       "      <td>150.000000</td>\n",
       "      <td>218587.000000</td>\n",
       "      <td>234402.000000</td>\n",
       "      <td>218587.000000</td>\n",
       "    </tr>\n",
       "  </tbody>\n",
       "</table>\n",
       "</div>"
      ],
      "text/plain": [
       "       # Of Positions  Salary Range From  Salary Range To  average salary\n",
       "count     3123.000000        3123.000000      3123.000000     3123.000000\n",
       "mean         2.623759       58670.745122     85954.696654    72312.720888\n",
       "std          8.947260       26985.651698     44137.810552    33309.032337\n",
       "min          1.000000           0.000000        10.360000        9.555000\n",
       "25%          1.000000       49390.000000     61936.000000    56310.750000\n",
       "50%          1.000000       58152.000000     81535.000000    70717.000000\n",
       "75%          1.000000       72476.000000    106222.000000    90000.000000\n",
       "max        150.000000      218587.000000    234402.000000   218587.000000"
      ]
     },
     "execution_count": 16,
     "metadata": {},
     "output_type": "execute_result"
    }
   ],
   "source": [
    "df.describe()"
   ]
  },
  {
   "cell_type": "code",
   "execution_count": 17,
   "metadata": {},
   "outputs": [
    {
     "data": {
      "text/plain": [
       "Text(0, 0.5, 'count')"
      ]
     },
     "execution_count": 17,
     "metadata": {},
     "output_type": "execute_result"
    },
    {
     "data": {
      "image/png": "[encoded data removed]",
      "text/plain": [
       "<Figure size 432x288 with 1 Axes>"
      ]
     },
     "metadata": {
      "needs_background": "light"
     },
     "output_type": "display_data"
    }
   ],
   "source": [
    "dplot1 = sns.distplot(df['# Of Positions'])\n",
    "plt.xlabel(\"positions\", fontsize=20)\n",
    "plt.ylabel(\"count\",fontsize=20)"
   ]
  },
  {
   "cell_type": "code",
   "execution_count": 18,
   "metadata": {},
   "outputs": [],
   "source": [
    "df['Minimum Qual Requirements'] = df['Minimum Qual Requirements'].str.replace('baccalaureate','bachelor')"
   ]
  },
  {
   "cell_type": "code",
   "execution_count": 19,
   "metadata": {},
   "outputs": [
    {
     "data": {
      "text/plain": [
       "['1.\\tA bachelor degree from an accredited college and two years of experience in community work or community centered activities in an area related to the duties described above; or  2.\\tHigh school graduation or equivalent and six years of experience in community work or community centered activities in an area related to the duties as described above; or  3.\\tEducation and/or experience which is equivalent to \"1\" or \"2\" above. However, all candidates must have at least one year of experience as described in \"1\" above.',\n",
       " '1. A bachelor degree from an accredited college or university and five years of full-time paid experience acquired within the last fifteen years, of supervisory or administrative experience including handling of business promotion or urban economic problems, at least 2 years of which must have been in a managerial or executive capacity with primary focus on business promotion or urban economic planning; or    2. A satisfactory equivalent combination of education and experience. However all candidates must have 2 years of managerial or executive experience as described in \"1\" above.     Appropriate graduate study in an accredited college or university may be substituted for the general experience on a year-for-year basis. All candidates must have a four-year high school diploma or its equivalent approved by a State\\'s Department of Education or a recognized accrediting organization.',\n",
       " '1. Three years of full-time satisfactory experience as a mechanic, journey person or helper in the electrical trades, the mechanical trades, or the construction or maintenance of buildings; or  2. A satisfactory combination of education and experience that is equivalent to \"1\" above. Education may be substituted for experience on the basis that each one year of full-time training in the electrical, mechanical, or construction trades in a trade school or vocational high school approved by a Stateâ€™s Department of Education or a recognized accrediting organization, may be substituted for six months of the experience described in \"1\" above. However, all candidates must have a minimum of two years of experience as described in \"1\" above.',\n",
       " '1. Three years of full-time satisfactory experience as a mechanic, journey person or helper in the electrical trades, the mechanical trades, or the construction or maintenance of buildings; or  2. A satisfactory combination of education and experience that is equivalent to \"1\" above. Education may be substituted for experience on the basis that each one year of full-time training in the electrical, mechanical, or construction trades in a trade school or vocational high school approved by a Stateâ€™s Department of Education or a recognized accrediting organization, may be substituted for six months of the experience described in \"1\" above. However, all candidates must have a minimum of two years of experience as described in \"1\" above.',\n",
       " '1. Five years of full-time satisfactory experience as a painter acquired within the last fifteen years; or  2. At least three years of full-time satisfactory experience as a painter acquired within the last fifteen years and sufficient full-time satisfactory apprentice painter experience to make up a total of five years of acceptable experience. Six months of acceptable experience will be credited for each year of apprentice painter experience.',\n",
       " '1. Five years of full-time satisfactory experience as a painter acquired within the last fifteen years; or  2. At least three years of full-time satisfactory experience as a painter acquired within the last fifteen years and sufficient full-time satisfactory apprentice painter experience to make up a total of five years of acceptable experience. Six months of acceptable experience will be credited for each year of apprentice painter experience.',\n",
       " '1. A bachelor degree from an accredited college and six months of satisfactory full-time professional experience in procurement of goods, services, construction or construction-related services, or professional, technical or administrative experience in contract negotiation/management; or  2. An associate degree or completion of 60 semester credits from an accredited college, and 18 months of satisfactory, full-time professional experience as described in â€œ1â€\\x9d above; or  3. A four-year high school diploma or its educational equivalent and two and one-half years of satisfactory full time professional experience as described in â€œ1â€\\x9d above; or  4. A combination of education and/or experience equivalent to â€œ1â€\\x9d, â€œ2â€\\x9d, or â€œ3â€\\x9d above. College education may be substituted for professional experience under â€œ2â€\\x9d or â€œ3â€\\x9d above at the rate of 30 semester credits from an accredited college for 6 months of experience. However, all candidates must have at least a four year high school diploma or its educational equivalent and 6 months of the experience described in â€œ1â€\\x9d above.  SPECIAL NOTES:  To be eligible for placement in Assignment Level II, individuals must have, after meeting the minimum requirements, either one year served at Assignment Level I or one additional year of the experience described in \"1\" above.  To be eligible for placement in Assignment Level III, individuals must have, after meeting the minimum requirements, either one year served at Assignment Level II or two additional years of the experience described in \"1\" above, at least one year of which must have been supervisory, or spent performing professional procurement duties equivalent to those performed at Assignment Level III.',\n",
       " 'Qualification Requirements  A bachelor degree from an accredited college, including or supplemented by 16 semester credits in chemistry and 8 semester credits in any one or a combination of the following areas: chemistry, pharmacology, toxicology, environmental science, forensic science, or other natural science.    Certificate Requirement  At the time of appointment to a clinical laboratory, candidates must possess a valid License as a Clinical Laboratory Technologist issued by the New York State Education Department. This license must be maintained for the duration of employment.  Additional Qualification Requirements For Assignment Level II and above.    To be eligible for placement in Assignment Level II and above, individuals must have, after meeting the minimum requirements described for Assignment Level I, at least two years of fulltime satisfactory experience performing chemical or physical analyses in a laboratory.     Education may be substituted for experience  on the basis of 30 graduate semester credits from an accredited college in any of the areas of study described in the qualification requirements above for one year of experience. However, all candidates must have a bachelor degree from an accredited college with the specialized credits as described above.',\n",
       " '1. A master\\'s degree from an accredited college in economics, finance, accounting, business or public administration, human resources management, management science, operations research, organizational behavior, industrial psychology, statistics, personnel administration, labor relations, psychology, sociology, human resources development, political science, urban studies or a closely related field, and two years of satisfactory full-time professional experience in one or a combination of the following: working with the budget of a large public or private concern in budget administration, accounting, economic or financial administration, or fiscal or economic research; in management or methods analysis, operations research, organizational research or program evaluation; in personnel or public administration, recruitment, position classification, personnel relations, employee benefits, staff development, employment program planning/administration, labor market research, economic planning, social services program planning/evaluation, or fiscal management; or in a related area. 18 months of this experience must have been in an executive, managerial, administrative or supervisory capacity. Supervision must have included supervising staff performing professional work in the areas described above; or    2. A bachelor degree from an accredited college and four years of professional experience in the areas described in \"1\" above, including the 18 months of executive, managerial, administrative or supervisory experience, as described in \"1\" above.',\n",
       " 'One year of full-time satisfactory experience in supervising employees performing project management work, such as planning, administering, managing, coordinating, or expediting, on engineering and/or architectural and/or landscape architectural projects, or supervising a construction project with a value of $1,000,000 or more, and either:  1. A bachelor degree from an accredited college in engineering, engineering technology, architecture, architectural technology, landscape architecture, business administration, or public administration, and one year of full-time satisfactory experience in project management work, such as planning, administering, managing, coordinating, or expediting, for engineering and/or architectural and/or landscape architectural projects; or  2. A four-year high school diploma or its educational equivalent approved by a Stateâ€™s Department of Education or a recognized accrediting organization and five years of experience as described in â€œ1â€\\x9d above; or  3. A four-year high school diploma or its educational equivalent approved by a Stateâ€™s Department of Education or a recognized accrediting organization plus any combination of college education and/or experience described in â€œ1â€\\x9d above to make up the equivalent of five years of education and experience. One year of experience credit will be given for (a) each 30 semester credits of college education leading to a bachelorâ€™s degree from an accredited college in engineering, engineering technology, architecture, architectural technology, landscape architecture, business administration or public administration; (b) a Masters degree from an accredited university in one of the disciplines described in â€œ1â€\\x9d above; or (c) a valid New York State license as a Professional Engineer, Registered Architect, or Registered Landscape Architect.  Experience which is primarily of a design nature is not acceptable towards meeting the qualification requirements.  4.  In addition to meeting the qualification requirements for Assignment Level I, candidates must have at least one additional year of experience as described in \"1\" above in a supervisory capacity or have served for at least one year as a project manager for a large and/or complex construction project.  5.  In addition to meeting the qualification requirements for Assignment Level I, candidates must have at least two additional years of experience as described in \"1\" above in a supervisory capacity or have served for at least two additional years as a project manager for a large and/or complex construction project.']"
      ]
     },
     "execution_count": 19,
     "metadata": {},
     "output_type": "execute_result"
    }
   ],
   "source": [
    "requirements = df['Minimum Qual Requirements'].tolist()\n",
    "[str(i) for i in requirements]\n",
    "requirements[:10]\n"
   ]
  },
  {
   "cell_type": "code",
   "execution_count": 20,
   "metadata": {},
   "outputs": [],
   "source": [
    "requirements=[re.sub(\"(^b'*)|(\\w*\\\\\\w*)|(\\w*\\:\\/\\/\\w*\\.*\\w*\\/\\w*)|(')|(\\.*)\",'',str(requirement)) for requirement in requirements] #stripping urls and images\n",
    "requirements=[re.sub(\"(\\@\\w*)\",'',str(requirement)) for requirement in requirements] #stripping tags\n",
    "requirements=[re.sub(\"[^\\\\w\\\\s\\-\\!\\.\\?]\",'',str(requirement)) for requirement in requirements] #stripping away any other non-alphanumeric characters like hashtags\n",
    "requirements=[re.sub(\"\\!|\\?|RT\",'',str(requirement)) for requirement in requirements] #stripping away exclamation and question marks, and the Rerequirement tag\n",
    "requirements=[re.sub(\"(\\d*)|(x\\d*)\",'',str(requirement)) for requirement in requirements] #Stripping away random numbers leftover after initial cleaning\n",
    "requirements=[requirement.lower() for requirement in requirements]#making everything lowercase\n",
    "requirements=[re.sub(\"(\\sa\\s)|(\\sthe\\s)|(\\sis\\s)|(\\sbe\\s)|(\\syes\\s)|(\\sthanks\\s)|(\\sit\\s)|(\\sits\\s)\",'',str(requirement)) for requirement in requirements]"
   ]
  },
  {
   "cell_type": "code",
   "execution_count": 21,
   "metadata": {},
   "outputs": [],
   "source": [
    "from nltk.stem import PorterStemmer\n",
    "from nltk.tokenize import sent_tokenize, word_tokenize\n",
    "import os\n",
    "\n",
    "from nltk.stem.wordnet import WordNetLemmatizer\n",
    "from nltk.stem.porter import PorterStemmer\n",
    "import string"
   ]
  },
  {
   "cell_type": "code",
   "execution_count": 22,
   "metadata": {},
   "outputs": [
    {
     "name": "stdout",
     "output_type": "stream",
     "text": [
      "[['bachelor', 'degree', 'an', 'accredited', 'college', 'two', 'years', 'eperience', 'community', 'work', 'community', 'centered', 'activities', 'an', 'area', 'related', 'toduties', 'high', 'school', 'graduation', 'equivalent', 'si', 'years', 'eperience', 'community', 'work', 'community', 'centered', 'activities', 'an', 'area', 'related', 'toduties', 'described', 'or', 'education', 'andor', 'eperience', 'whichequivalent', 'or', 'above', 'however', 'candidates', 'have', 'least', 'one', 'year', 'eperience', 'described', 'above'], ['bachelor', 'degree', 'an', 'accredited', 'college', 'university', 'five', 'years', 'full-time', 'paid', 'eperience', 'acquired', 'withinlast', 'fifteen', 'years', 'supervisory', 'administrative', 'eperience', 'including', 'handling', 'business', 'promotion', 'urban', 'economic', 'problems', 'least', 'years', 'which', 'have', 'inmanagerial', 'eecutive', 'capacity', 'primary', 'focus', 'business', 'promotion', 'urban', 'economic', 'planning', 'satisfactory', 'equivalent', 'combination', 'education', 'eperience', 'however', 'candidates', 'have', 'years', 'managerial', 'eecutive', 'eperience', 'described', 'above', 'appropriate', 'graduate', 'study', 'an', 'accredited', 'college', 'university', 'maysubstituted', 'forgeneral', 'eperience', 'onyear-for-year', 'basis', 'candidates', 'havefour-year', 'high', 'school', 'diploma', 'orequivalent', 'approved', 'bystates', 'department', 'education', 'orrecognized', 'accrediting', 'organization'], ['three', 'years', 'full-time', 'satisfactory', 'eperience', 'asmechanic', 'journey', 'person', 'helper', 'inelectrical', 'tradesmechanical', 'trades', 'orconstruction', 'maintenance', 'buildings', 'satisfactory', 'combination', 'education', 'eperience', 'thatequivalent', 'education', 'maysubstituted', 'eperience', 'onbasis', 'each', 'one', 'year', 'full-time', 'training', 'inelectrical', 'mechanical', 'construction', 'trades', 'intrade', 'school', 'vocational', 'high', 'school', 'approved', 'bystateâs', 'department', 'education', 'orrecognized', 'accrediting', 'organization', 'maysubstituted', 'si', 'months', 'ofeperience', 'above', 'however', 'candidates', 'haveminimum', 'two', 'years', 'eperience', 'described', 'in', 'above'], ['three', 'years', 'full-time', 'satisfactory', 'eperience', 'asmechanic', 'journey', 'person', 'helper', 'inelectrical', 'tradesmechanical', 'trades', 'orconstruction', 'maintenance', 'buildings', 'satisfactory', 'combination', 'education', 'eperience', 'thatequivalent', 'education', 'maysubstituted', 'eperience', 'onbasis', 'each', 'one', 'year', 'full-time', 'training', 'inelectrical', 'mechanical', 'construction', 'trades', 'intrade', 'school', 'vocational', 'high', 'school', 'approved', 'bystateâs', 'department', 'education', 'orrecognized', 'accrediting', 'organization', 'maysubstituted', 'si', 'months', 'ofeperience', 'above', 'however', 'candidates', 'haveminimum', 'two', 'years', 'eperience', 'described', 'in', 'above'], ['five', 'years', 'full-time', 'satisfactory', 'eperience', 'aspainter', 'acquired', 'withinlast', 'fifteen', 'years', 'at', 'least', 'three', 'years', 'full-time', 'satisfactory', 'eperience', 'aspainter', 'acquired', 'withinlast', 'fifteen', 'years', 'sufficient', 'full-time', 'satisfactory', 'apprentice', 'painter', 'eperience', 'make', 'uptotal', 'five', 'years', 'acceptable', 'eperience', 'si', 'months', 'acceptable', 'eperience', 'willcredited', 'each', 'year', 'apprentice', 'painter', 'eperience']]\n"
     ]
    }
   ],
   "source": [
    "#Tokenizing and removing stop words\n",
    "tokenizedrequirements = [word_tokenize(word) for word in requirements]\n",
    "\n",
    "stpwrds=stopwords.words(\"english\")\n",
    "stpwrds.extend(['the', ' the', 'the ', ' the ', 'a', 'an', ' an', 'an ', 'must', 'described', 'in'])\n",
    "stop_words=set(stpwrds)\n",
    "\n",
    "for requirement in tokenizedrequirements:\n",
    "    for word in requirement:\n",
    "        if word in stop_words:\n",
    "            requirement.remove(word)\n",
    "\n",
    "print(tokenizedrequirements[:5])"
   ]
  },
  {
   "cell_type": "code",
   "execution_count": 23,
   "metadata": {},
   "outputs": [
    {
     "name": "stdout",
     "output_type": "stream",
     "text": [
      "[('eperience', 13222), ('years', 7253), ('an', 6856), ('accredited', 5293), ('one', 5016), ('college', 4964), ('year', 4825), ('satisfactory', 4724), ('education', 4721), ('degree', 4296)]\n"
     ]
    },
    {
     "data": {
      "image/png": "[encoded data removed]",
      "text/plain": [
       "<Figure size 432x288 with 1 Axes>"
      ]
     },
     "metadata": {
      "needs_background": "light"
     },
     "output_type": "display_data"
    }
   ],
   "source": [
    "# Looking at word frequency\n",
    "requirementlist = []\n",
    "for requirement in tokenizedrequirements:\n",
    "    for word in requirement:\n",
    "        requirementlist.append(word)\n",
    "fdist = FreqDist(requirementlist)\n",
    "print(fdist.most_common(10)) \n",
    "fdist.N()  # freq of each\n",
    "# Visualize word frequency\n",
    "fdist.plot(30,cumulative=False)\n",
    "plt.show()"
   ]
  },
  {
   "cell_type": "code",
   "execution_count": 24,
   "metadata": {},
   "outputs": [
    {
     "data": {
      "text/plain": [
       "0    1.\\tA bachelor degree from an accredited colle...\n",
       "1    1. A bachelor degree from an accredited colleg...\n",
       "2    1. Three years of full-time satisfactory exper...\n",
       "3    1. Three years of full-time satisfactory exper...\n",
       "4    1. Five years of full-time satisfactory experi...\n",
       "Name: Minimum Qual Requirements, dtype: object"
      ]
     },
     "execution_count": 24,
     "metadata": {},
     "output_type": "execute_result"
    }
   ],
   "source": [
    "df['Minimum Qual Requirements'].head(n = 5)"
   ]
  },
  {
   "cell_type": "code",
   "execution_count": 25,
   "metadata": {},
   "outputs": [
    {
     "data": {
      "text/plain": [
       "Additional Information       1186\n",
       "Preferred Skills              375\n",
       "Minimum Qual Requirements      12\n",
       "Job Category                    2\n",
       "average salary                  0\n",
       "Job Description                 0\n",
       "Division/Work Unit              0\n",
       "Work Location                   0\n",
       "Salary Frequency                0\n",
       "Salary Range To                 0\n",
       "Salary Range From               0\n",
       "Level                           0\n",
       "Title Code No                   0\n",
       "Civil Service Title             0\n",
       "# Of Positions                  0\n",
       "Agency                          0\n",
       "dtype: int64"
      ]
     },
     "execution_count": 25,
     "metadata": {},
     "output_type": "execute_result"
    }
   ],
   "source": [
    "nulls = df.isnull().sum().sort_values(ascending = False)\n",
    "nulls"
   ]
  },
  {
   "cell_type": "code",
   "execution_count": 26,
   "metadata": {},
   "outputs": [],
   "source": [
    "df['Job Description'] =  df['Job Description'].str.lower()\n",
    "df['Minimum Qual Requirements'] =  df['Minimum Qual Requirements'].str.lower()\n",
    "df['Preferred Skills'] =  df['Preferred Skills'].str.lower()"
   ]
  },
  {
   "cell_type": "code",
   "execution_count": 27,
   "metadata": {},
   "outputs": [
    {
     "data": {
      "text/html": [
       "<div>\n",
       "<style scoped>\n",
       "    .dataframe tbody tr th:only-of-type {\n",
       "        vertical-align: middle;\n",
       "    }\n",
       "\n",
       "    .dataframe tbody tr th {\n",
       "        vertical-align: top;\n",
       "    }\n",
       "\n",
       "    .dataframe thead th {\n",
       "        text-align: right;\n",
       "    }\n",
       "</style>\n",
       "<table border=\"1\" class=\"dataframe\">\n",
       "  <thead>\n",
       "    <tr style=\"text-align: right;\">\n",
       "      <th></th>\n",
       "      <th>Agency</th>\n",
       "      <th># Of Positions</th>\n",
       "      <th>Civil Service Title</th>\n",
       "      <th>Title Code No</th>\n",
       "      <th>Level</th>\n",
       "      <th>Job Category</th>\n",
       "      <th>Salary Range From</th>\n",
       "      <th>Salary Range To</th>\n",
       "      <th>Salary Frequency</th>\n",
       "      <th>Work Location</th>\n",
       "      <th>Division/Work Unit</th>\n",
       "      <th>Job Description</th>\n",
       "      <th>Minimum Qual Requirements</th>\n",
       "      <th>Preferred Skills</th>\n",
       "      <th>Additional Information</th>\n",
       "      <th>average salary</th>\n",
       "    </tr>\n",
       "  </thead>\n",
       "  <tbody>\n",
       "    <tr>\n",
       "      <th>0</th>\n",
       "      <td>DEPARTMENT OF BUSINESS SERV.</td>\n",
       "      <td>1</td>\n",
       "      <td>CONTRACT REVIEWER (OFFICE OF L</td>\n",
       "      <td>40563</td>\n",
       "      <td>1</td>\n",
       "      <td>NaN</td>\n",
       "      <td>42405.00</td>\n",
       "      <td>65485.00</td>\n",
       "      <td>Annual</td>\n",
       "      <td>110 William St. N Y</td>\n",
       "      <td>Strategy &amp; Analytics</td>\n",
       "      <td>division of economic &amp; financial opportunity (...</td>\n",
       "      <td>1.\\ta bachelor degree from an accredited colle...</td>\n",
       "      <td>â€¢\\texcellent interpersonal and organizationa...</td>\n",
       "      <td>Salary range for this position is: $42,405 - $...</td>\n",
       "      <td>53945.0</td>\n",
       "    </tr>\n",
       "    <tr>\n",
       "      <th>1</th>\n",
       "      <td>DEPARTMENT OF BUSINESS SERV.</td>\n",
       "      <td>1</td>\n",
       "      <td>ADMINISTRATIVE BUSINESS PROMOT</td>\n",
       "      <td>10009</td>\n",
       "      <td>M3</td>\n",
       "      <td>NaN</td>\n",
       "      <td>60740.00</td>\n",
       "      <td>162014.00</td>\n",
       "      <td>Annual</td>\n",
       "      <td>110 William St. N Y</td>\n",
       "      <td>Tech Talent Pipeline</td>\n",
       "      <td>the new york city department of small business...</td>\n",
       "      <td>1. a bachelor degree from an accredited colleg...</td>\n",
       "      <td>NaN</td>\n",
       "      <td>NaN</td>\n",
       "      <td>111377.0</td>\n",
       "    </tr>\n",
       "    <tr>\n",
       "      <th>2</th>\n",
       "      <td>NYC HOUSING AUTHORITY</td>\n",
       "      <td>52</td>\n",
       "      <td>MAINTENANCE WORKER</td>\n",
       "      <td>90698</td>\n",
       "      <td>0</td>\n",
       "      <td>Maintenance &amp; Operations</td>\n",
       "      <td>51907.68</td>\n",
       "      <td>54580.32</td>\n",
       "      <td>Annual</td>\n",
       "      <td>Heating Mgt-Operations</td>\n",
       "      <td>Management Services Department</td>\n",
       "      <td>under direct supervision, assist in the routin...</td>\n",
       "      <td>1. three years of full-time satisfactory exper...</td>\n",
       "      <td>1.  a high school diploma or ged.  2.  cdl dri...</td>\n",
       "      <td>1.  A Motor Vehicle Driverâ€™s License valid i...</td>\n",
       "      <td>53244.0</td>\n",
       "    </tr>\n",
       "    <tr>\n",
       "      <th>3</th>\n",
       "      <td>NYC HOUSING AUTHORITY</td>\n",
       "      <td>52</td>\n",
       "      <td>MAINTENANCE WORKER</td>\n",
       "      <td>90698</td>\n",
       "      <td>0</td>\n",
       "      <td>Maintenance &amp; Operations</td>\n",
       "      <td>51907.68</td>\n",
       "      <td>54580.32</td>\n",
       "      <td>Annual</td>\n",
       "      <td>Heating Mgt-Operations</td>\n",
       "      <td>Management Services Department</td>\n",
       "      <td>under direct supervision, assist in the routin...</td>\n",
       "      <td>1. three years of full-time satisfactory exper...</td>\n",
       "      <td>1.  a high school diploma or ged.  2.  cdl dri...</td>\n",
       "      <td>1.  A Motor Vehicle Driverâ€™s License valid i...</td>\n",
       "      <td>53244.0</td>\n",
       "    </tr>\n",
       "    <tr>\n",
       "      <th>4</th>\n",
       "      <td>NYC HOUSING AUTHORITY</td>\n",
       "      <td>50</td>\n",
       "      <td>PAINTER</td>\n",
       "      <td>91830</td>\n",
       "      <td>0</td>\n",
       "      <td>Maintenance &amp; Operations</td>\n",
       "      <td>35.00</td>\n",
       "      <td>35.00</td>\n",
       "      <td>Hourly</td>\n",
       "      <td>DMP-Contract &amp; Analysis Unit</td>\n",
       "      <td>Dept of Management &amp; Planning</td>\n",
       "      <td>responsibilities of selected candidates will i...</td>\n",
       "      <td>1. five years of full-time satisfactory experi...</td>\n",
       "      <td>NaN</td>\n",
       "      <td>SPECIAL NOTE:    1.  This is a temporary assig...</td>\n",
       "      <td>35.0</td>\n",
       "    </tr>\n",
       "  </tbody>\n",
       "</table>\n",
       "</div>"
      ],
      "text/plain": [
       "                         Agency  # Of Positions  \\\n",
       "0  DEPARTMENT OF BUSINESS SERV.               1   \n",
       "1  DEPARTMENT OF BUSINESS SERV.               1   \n",
       "2         NYC HOUSING AUTHORITY              52   \n",
       "3         NYC HOUSING AUTHORITY              52   \n",
       "4         NYC HOUSING AUTHORITY              50   \n",
       "\n",
       "              Civil Service Title Title Code No Level  \\\n",
       "0  CONTRACT REVIEWER (OFFICE OF L         40563     1   \n",
       "1  ADMINISTRATIVE BUSINESS PROMOT         10009    M3   \n",
       "2              MAINTENANCE WORKER         90698     0   \n",
       "3              MAINTENANCE WORKER         90698     0   \n",
       "4                         PAINTER         91830     0   \n",
       "\n",
       "               Job Category  Salary Range From  Salary Range To  \\\n",
       "0                       NaN           42405.00         65485.00   \n",
       "1                       NaN           60740.00        162014.00   \n",
       "2  Maintenance & Operations           51907.68         54580.32   \n",
       "3  Maintenance & Operations           51907.68         54580.32   \n",
       "4  Maintenance & Operations              35.00            35.00   \n",
       "\n",
       "  Salary Frequency                 Work Location  \\\n",
       "0           Annual           110 William St. N Y   \n",
       "1           Annual           110 William St. N Y   \n",
       "2           Annual        Heating Mgt-Operations   \n",
       "3           Annual        Heating Mgt-Operations   \n",
       "4           Hourly  DMP-Contract & Analysis Unit   \n",
       "\n",
       "               Division/Work Unit  \\\n",
       "0            Strategy & Analytics   \n",
       "1            Tech Talent Pipeline   \n",
       "2  Management Services Department   \n",
       "3  Management Services Department   \n",
       "4   Dept of Management & Planning   \n",
       "\n",
       "                                     Job Description  \\\n",
       "0  division of economic & financial opportunity (...   \n",
       "1  the new york city department of small business...   \n",
       "2  under direct supervision, assist in the routin...   \n",
       "3  under direct supervision, assist in the routin...   \n",
       "4  responsibilities of selected candidates will i...   \n",
       "\n",
       "                           Minimum Qual Requirements  \\\n",
       "0  1.\\ta bachelor degree from an accredited colle...   \n",
       "1  1. a bachelor degree from an accredited colleg...   \n",
       "2  1. three years of full-time satisfactory exper...   \n",
       "3  1. three years of full-time satisfactory exper...   \n",
       "4  1. five years of full-time satisfactory experi...   \n",
       "\n",
       "                                    Preferred Skills  \\\n",
       "0  â€¢\\texcellent interpersonal and organizationa...   \n",
       "1                                                NaN   \n",
       "2  1.  a high school diploma or ged.  2.  cdl dri...   \n",
       "3  1.  a high school diploma or ged.  2.  cdl dri...   \n",
       "4                                                NaN   \n",
       "\n",
       "                              Additional Information  average salary  \n",
       "0  Salary range for this position is: $42,405 - $...         53945.0  \n",
       "1                                                NaN        111377.0  \n",
       "2  1.  A Motor Vehicle Driverâ€™s License valid i...         53244.0  \n",
       "3  1.  A Motor Vehicle Driverâ€™s License valid i...         53244.0  \n",
       "4  SPECIAL NOTE:    1.  This is a temporary assig...            35.0  "
      ]
     },
     "execution_count": 27,
     "metadata": {},
     "output_type": "execute_result"
    }
   ],
   "source": [
    "df.head()"
   ]
  },
  {
   "cell_type": "code",
   "execution_count": 28,
   "metadata": {},
   "outputs": [],
   "source": [
    "df['Job Description'] = df['Job Description'].str.replace('[^a-zA-Z0-9 ]', '', regex=True)\n",
    "df['Minimum Qual Requirements'] = df['Minimum Qual Requirements'].str.replace('[^a-zA-Z0-9 ]', '', regex=True)\n",
    "df['Preferred Skills'] = df['Preferred Skills'].str.replace('[^a-zA-Z0-9 ]', '', regex=True)"
   ]
  },
  {
   "cell_type": "code",
   "execution_count": 29,
   "metadata": {},
   "outputs": [
    {
     "data": {
      "text/plain": [
       "0    division of economic  financial opportunity de...\n",
       "1    the new york city department of small business...\n",
       "Name: Job Description, dtype: object"
      ]
     },
     "execution_count": 29,
     "metadata": {},
     "output_type": "execute_result"
    }
   ],
   "source": [
    "df['Job Description'].head(n = 2)\n"
   ]
  },
  {
   "cell_type": "code",
   "execution_count": 30,
   "metadata": {},
   "outputs": [
    {
     "data": {
      "text/plain": [
       "0    1a bachelor degree from an accredited college ...\n",
       "1    1 a bachelor degree from an accredited college...\n",
       "Name: Minimum Qual Requirements, dtype: object"
      ]
     },
     "execution_count": 30,
     "metadata": {},
     "output_type": "execute_result"
    }
   ],
   "source": [
    "df['Minimum Qual Requirements'].head(n = 2)"
   ]
  },
  {
   "cell_type": "code",
   "execution_count": 31,
   "metadata": {},
   "outputs": [
    {
     "data": {
      "text/plain": [
       "0    excellent interpersonal and organizational ski...\n",
       "1                                                  NaN\n",
       "2    1  a high school diploma or ged  2  cdl driver...\n",
       "Name: Preferred Skills, dtype: object"
      ]
     },
     "execution_count": 31,
     "metadata": {},
     "output_type": "execute_result"
    }
   ],
   "source": [
    "df['Preferred Skills'].head(n = 3)"
   ]
  },
  {
   "cell_type": "code",
   "execution_count": 32,
   "metadata": {},
   "outputs": [],
   "source": [
    "df['Minimum Qual Requirements'] = df['Minimum Qual Requirements'].str.replace('baccalaureate','bachelor')"
   ]
  },
  {
   "cell_type": "code",
   "execution_count": 33,
   "metadata": {},
   "outputs": [
    {
     "data": {
      "text/plain": [
       "0    1a bachelor degree from an accredited college ...\n",
       "1    1 a bachelor degree from an accredited college...\n",
       "Name: Minimum Qual Requirements, dtype: object"
      ]
     },
     "execution_count": 33,
     "metadata": {},
     "output_type": "execute_result"
    }
   ],
   "source": [
    "df['Minimum Qual Requirements'].head(n = 2)"
   ]
  },
  {
   "cell_type": "code",
   "execution_count": 34,
   "metadata": {},
   "outputs": [],
   "source": [
    "\n",
    "df['salary_bins'] = pd.cut(x=df['average salary'], bins=[1, 20000, 50000, 70000, 100000, 150000, 220000])"
   ]
  },
  {
   "cell_type": "code",
   "execution_count": 35,
   "metadata": {},
   "outputs": [
    {
     "data": {
      "text/html": [
       "<div>\n",
       "<style scoped>\n",
       "    .dataframe tbody tr th:only-of-type {\n",
       "        vertical-align: middle;\n",
       "    }\n",
       "\n",
       "    .dataframe tbody tr th {\n",
       "        vertical-align: top;\n",
       "    }\n",
       "\n",
       "    .dataframe thead th {\n",
       "        text-align: right;\n",
       "    }\n",
       "</style>\n",
       "<table border=\"1\" class=\"dataframe\">\n",
       "  <thead>\n",
       "    <tr style=\"text-align: right;\">\n",
       "      <th></th>\n",
       "      <th>Agency</th>\n",
       "      <th># Of Positions</th>\n",
       "      <th>Civil Service Title</th>\n",
       "      <th>Title Code No</th>\n",
       "      <th>Level</th>\n",
       "      <th>Job Category</th>\n",
       "      <th>Salary Range From</th>\n",
       "      <th>Salary Range To</th>\n",
       "      <th>Salary Frequency</th>\n",
       "      <th>Work Location</th>\n",
       "      <th>Division/Work Unit</th>\n",
       "      <th>Job Description</th>\n",
       "      <th>Minimum Qual Requirements</th>\n",
       "      <th>Preferred Skills</th>\n",
       "      <th>Additional Information</th>\n",
       "      <th>average salary</th>\n",
       "      <th>salary_bins</th>\n",
       "    </tr>\n",
       "  </thead>\n",
       "  <tbody>\n",
       "    <tr>\n",
       "      <th>0</th>\n",
       "      <td>DEPARTMENT OF BUSINESS SERV.</td>\n",
       "      <td>1</td>\n",
       "      <td>CONTRACT REVIEWER (OFFICE OF L</td>\n",
       "      <td>40563</td>\n",
       "      <td>1</td>\n",
       "      <td>NaN</td>\n",
       "      <td>42405.00</td>\n",
       "      <td>65485.00</td>\n",
       "      <td>Annual</td>\n",
       "      <td>110 William St. N Y</td>\n",
       "      <td>Strategy &amp; Analytics</td>\n",
       "      <td>division of economic  financial opportunity de...</td>\n",
       "      <td>1a bachelor degree from an accredited college ...</td>\n",
       "      <td>excellent interpersonal and organizational ski...</td>\n",
       "      <td>Salary range for this position is: $42,405 - $...</td>\n",
       "      <td>53945.0</td>\n",
       "      <td>(50000, 70000]</td>\n",
       "    </tr>\n",
       "    <tr>\n",
       "      <th>1</th>\n",
       "      <td>DEPARTMENT OF BUSINESS SERV.</td>\n",
       "      <td>1</td>\n",
       "      <td>ADMINISTRATIVE BUSINESS PROMOT</td>\n",
       "      <td>10009</td>\n",
       "      <td>M3</td>\n",
       "      <td>NaN</td>\n",
       "      <td>60740.00</td>\n",
       "      <td>162014.00</td>\n",
       "      <td>Annual</td>\n",
       "      <td>110 William St. N Y</td>\n",
       "      <td>Tech Talent Pipeline</td>\n",
       "      <td>the new york city department of small business...</td>\n",
       "      <td>1 a bachelor degree from an accredited college...</td>\n",
       "      <td>NaN</td>\n",
       "      <td>NaN</td>\n",
       "      <td>111377.0</td>\n",
       "      <td>(100000, 150000]</td>\n",
       "    </tr>\n",
       "    <tr>\n",
       "      <th>2</th>\n",
       "      <td>NYC HOUSING AUTHORITY</td>\n",
       "      <td>52</td>\n",
       "      <td>MAINTENANCE WORKER</td>\n",
       "      <td>90698</td>\n",
       "      <td>0</td>\n",
       "      <td>Maintenance &amp; Operations</td>\n",
       "      <td>51907.68</td>\n",
       "      <td>54580.32</td>\n",
       "      <td>Annual</td>\n",
       "      <td>Heating Mgt-Operations</td>\n",
       "      <td>Management Services Department</td>\n",
       "      <td>under direct supervision assist in the routine...</td>\n",
       "      <td>1 three years of fulltime satisfactory experie...</td>\n",
       "      <td>1  a high school diploma or ged  2  cdl driver...</td>\n",
       "      <td>1.  A Motor Vehicle Driverâ€™s License valid i...</td>\n",
       "      <td>53244.0</td>\n",
       "      <td>(50000, 70000]</td>\n",
       "    </tr>\n",
       "    <tr>\n",
       "      <th>3</th>\n",
       "      <td>NYC HOUSING AUTHORITY</td>\n",
       "      <td>52</td>\n",
       "      <td>MAINTENANCE WORKER</td>\n",
       "      <td>90698</td>\n",
       "      <td>0</td>\n",
       "      <td>Maintenance &amp; Operations</td>\n",
       "      <td>51907.68</td>\n",
       "      <td>54580.32</td>\n",
       "      <td>Annual</td>\n",
       "      <td>Heating Mgt-Operations</td>\n",
       "      <td>Management Services Department</td>\n",
       "      <td>under direct supervision assist in the routine...</td>\n",
       "      <td>1 three years of fulltime satisfactory experie...</td>\n",
       "      <td>1  a high school diploma or ged  2  cdl driver...</td>\n",
       "      <td>1.  A Motor Vehicle Driverâ€™s License valid i...</td>\n",
       "      <td>53244.0</td>\n",
       "      <td>(50000, 70000]</td>\n",
       "    </tr>\n",
       "    <tr>\n",
       "      <th>4</th>\n",
       "      <td>NYC HOUSING AUTHORITY</td>\n",
       "      <td>50</td>\n",
       "      <td>PAINTER</td>\n",
       "      <td>91830</td>\n",
       "      <td>0</td>\n",
       "      <td>Maintenance &amp; Operations</td>\n",
       "      <td>35.00</td>\n",
       "      <td>35.00</td>\n",
       "      <td>Hourly</td>\n",
       "      <td>DMP-Contract &amp; Analysis Unit</td>\n",
       "      <td>Dept of Management &amp; Planning</td>\n",
       "      <td>responsibilities of selected candidates will i...</td>\n",
       "      <td>1 five years of fulltime satisfactory experien...</td>\n",
       "      <td>NaN</td>\n",
       "      <td>SPECIAL NOTE:    1.  This is a temporary assig...</td>\n",
       "      <td>35.0</td>\n",
       "      <td>(1, 20000]</td>\n",
       "    </tr>\n",
       "  </tbody>\n",
       "</table>\n",
       "</div>"
      ],
      "text/plain": [
       "                         Agency  # Of Positions  \\\n",
       "0  DEPARTMENT OF BUSINESS SERV.               1   \n",
       "1  DEPARTMENT OF BUSINESS SERV.               1   \n",
       "2         NYC HOUSING AUTHORITY              52   \n",
       "3         NYC HOUSING AUTHORITY              52   \n",
       "4         NYC HOUSING AUTHORITY              50   \n",
       "\n",
       "              Civil Service Title Title Code No Level  \\\n",
       "0  CONTRACT REVIEWER (OFFICE OF L         40563     1   \n",
       "1  ADMINISTRATIVE BUSINESS PROMOT         10009    M3   \n",
       "2              MAINTENANCE WORKER         90698     0   \n",
       "3              MAINTENANCE WORKER         90698     0   \n",
       "4                         PAINTER         91830     0   \n",
       "\n",
       "               Job Category  Salary Range From  Salary Range To  \\\n",
       "0                       NaN           42405.00         65485.00   \n",
       "1                       NaN           60740.00        162014.00   \n",
       "2  Maintenance & Operations           51907.68         54580.32   \n",
       "3  Maintenance & Operations           51907.68         54580.32   \n",
       "4  Maintenance & Operations              35.00            35.00   \n",
       "\n",
       "  Salary Frequency                 Work Location  \\\n",
       "0           Annual           110 William St. N Y   \n",
       "1           Annual           110 William St. N Y   \n",
       "2           Annual        Heating Mgt-Operations   \n",
       "3           Annual        Heating Mgt-Operations   \n",
       "4           Hourly  DMP-Contract & Analysis Unit   \n",
       "\n",
       "               Division/Work Unit  \\\n",
       "0            Strategy & Analytics   \n",
       "1            Tech Talent Pipeline   \n",
       "2  Management Services Department   \n",
       "3  Management Services Department   \n",
       "4   Dept of Management & Planning   \n",
       "\n",
       "                                     Job Description  \\\n",
       "0  division of economic  financial opportunity de...   \n",
       "1  the new york city department of small business...   \n",
       "2  under direct supervision assist in the routine...   \n",
       "3  under direct supervision assist in the routine...   \n",
       "4  responsibilities of selected candidates will i...   \n",
       "\n",
       "                           Minimum Qual Requirements  \\\n",
       "0  1a bachelor degree from an accredited college ...   \n",
       "1  1 a bachelor degree from an accredited college...   \n",
       "2  1 three years of fulltime satisfactory experie...   \n",
       "3  1 three years of fulltime satisfactory experie...   \n",
       "4  1 five years of fulltime satisfactory experien...   \n",
       "\n",
       "                                    Preferred Skills  \\\n",
       "0  excellent interpersonal and organizational ski...   \n",
       "1                                                NaN   \n",
       "2  1  a high school diploma or ged  2  cdl driver...   \n",
       "3  1  a high school diploma or ged  2  cdl driver...   \n",
       "4                                                NaN   \n",
       "\n",
       "                              Additional Information  average salary  \\\n",
       "0  Salary range for this position is: $42,405 - $...         53945.0   \n",
       "1                                                NaN        111377.0   \n",
       "2  1.  A Motor Vehicle Driverâ€™s License valid i...         53244.0   \n",
       "3  1.  A Motor Vehicle Driverâ€™s License valid i...         53244.0   \n",
       "4  SPECIAL NOTE:    1.  This is a temporary assig...            35.0   \n",
       "\n",
       "        salary_bins  \n",
       "0    (50000, 70000]  \n",
       "1  (100000, 150000]  \n",
       "2    (50000, 70000]  \n",
       "3    (50000, 70000]  \n",
       "4        (1, 20000]  "
      ]
     },
     "execution_count": 35,
     "metadata": {},
     "output_type": "execute_result"
    }
   ],
   "source": [
    "df.head(n=5)"
   ]
  },
  {
   "cell_type": "code",
   "execution_count": 36,
   "metadata": {},
   "outputs": [],
   "source": [
    "df['salary_level'] = pd.cut(x=df['average salary'], bins=[1, 20000, 50000, 70000, 100000, 150000, 220000],\n",
    "                            labels=['low', 'low_average', 'average','average_high','high','very_high'])"
   ]
  },
  {
   "cell_type": "code",
   "execution_count": 37,
   "metadata": {},
   "outputs": [
    {
     "data": {
      "text/html": [
       "<div>\n",
       "<style scoped>\n",
       "    .dataframe tbody tr th:only-of-type {\n",
       "        vertical-align: middle;\n",
       "    }\n",
       "\n",
       "    .dataframe tbody tr th {\n",
       "        vertical-align: top;\n",
       "    }\n",
       "\n",
       "    .dataframe thead th {\n",
       "        text-align: right;\n",
       "    }\n",
       "</style>\n",
       "<table border=\"1\" class=\"dataframe\">\n",
       "  <thead>\n",
       "    <tr style=\"text-align: right;\">\n",
       "      <th></th>\n",
       "      <th>Agency</th>\n",
       "      <th># Of Positions</th>\n",
       "      <th>Civil Service Title</th>\n",
       "      <th>Title Code No</th>\n",
       "      <th>Level</th>\n",
       "      <th>Job Category</th>\n",
       "      <th>Salary Range From</th>\n",
       "      <th>Salary Range To</th>\n",
       "      <th>Salary Frequency</th>\n",
       "      <th>Work Location</th>\n",
       "      <th>Division/Work Unit</th>\n",
       "      <th>Job Description</th>\n",
       "      <th>Minimum Qual Requirements</th>\n",
       "      <th>Preferred Skills</th>\n",
       "      <th>Additional Information</th>\n",
       "      <th>average salary</th>\n",
       "      <th>salary_bins</th>\n",
       "      <th>salary_level</th>\n",
       "    </tr>\n",
       "  </thead>\n",
       "  <tbody>\n",
       "    <tr>\n",
       "      <th>0</th>\n",
       "      <td>DEPARTMENT OF BUSINESS SERV.</td>\n",
       "      <td>1</td>\n",
       "      <td>CONTRACT REVIEWER (OFFICE OF L</td>\n",
       "      <td>40563</td>\n",
       "      <td>1</td>\n",
       "      <td>NaN</td>\n",
       "      <td>42405.00</td>\n",
       "      <td>65485.00</td>\n",
       "      <td>Annual</td>\n",
       "      <td>110 William St. N Y</td>\n",
       "      <td>Strategy &amp; Analytics</td>\n",
       "      <td>division of economic  financial opportunity de...</td>\n",
       "      <td>1a bachelor degree from an accredited college ...</td>\n",
       "      <td>excellent interpersonal and organizational ski...</td>\n",
       "      <td>Salary range for this position is: $42,405 - $...</td>\n",
       "      <td>53945.0</td>\n",
       "      <td>(50000, 70000]</td>\n",
       "      <td>average</td>\n",
       "    </tr>\n",
       "    <tr>\n",
       "      <th>1</th>\n",
       "      <td>DEPARTMENT OF BUSINESS SERV.</td>\n",
       "      <td>1</td>\n",
       "      <td>ADMINISTRATIVE BUSINESS PROMOT</td>\n",
       "      <td>10009</td>\n",
       "      <td>M3</td>\n",
       "      <td>NaN</td>\n",
       "      <td>60740.00</td>\n",
       "      <td>162014.00</td>\n",
       "      <td>Annual</td>\n",
       "      <td>110 William St. N Y</td>\n",
       "      <td>Tech Talent Pipeline</td>\n",
       "      <td>the new york city department of small business...</td>\n",
       "      <td>1 a bachelor degree from an accredited college...</td>\n",
       "      <td>NaN</td>\n",
       "      <td>NaN</td>\n",
       "      <td>111377.0</td>\n",
       "      <td>(100000, 150000]</td>\n",
       "      <td>high</td>\n",
       "    </tr>\n",
       "    <tr>\n",
       "      <th>2</th>\n",
       "      <td>NYC HOUSING AUTHORITY</td>\n",
       "      <td>52</td>\n",
       "      <td>MAINTENANCE WORKER</td>\n",
       "      <td>90698</td>\n",
       "      <td>0</td>\n",
       "      <td>Maintenance &amp; Operations</td>\n",
       "      <td>51907.68</td>\n",
       "      <td>54580.32</td>\n",
       "      <td>Annual</td>\n",
       "      <td>Heating Mgt-Operations</td>\n",
       "      <td>Management Services Department</td>\n",
       "      <td>under direct supervision assist in the routine...</td>\n",
       "      <td>1 three years of fulltime satisfactory experie...</td>\n",
       "      <td>1  a high school diploma or ged  2  cdl driver...</td>\n",
       "      <td>1.  A Motor Vehicle Driverâ€™s License valid i...</td>\n",
       "      <td>53244.0</td>\n",
       "      <td>(50000, 70000]</td>\n",
       "      <td>average</td>\n",
       "    </tr>\n",
       "    <tr>\n",
       "      <th>3</th>\n",
       "      <td>NYC HOUSING AUTHORITY</td>\n",
       "      <td>52</td>\n",
       "      <td>MAINTENANCE WORKER</td>\n",
       "      <td>90698</td>\n",
       "      <td>0</td>\n",
       "      <td>Maintenance &amp; Operations</td>\n",
       "      <td>51907.68</td>\n",
       "      <td>54580.32</td>\n",
       "      <td>Annual</td>\n",
       "      <td>Heating Mgt-Operations</td>\n",
       "      <td>Management Services Department</td>\n",
       "      <td>under direct supervision assist in the routine...</td>\n",
       "      <td>1 three years of fulltime satisfactory experie...</td>\n",
       "      <td>1  a high school diploma or ged  2  cdl driver...</td>\n",
       "      <td>1.  A Motor Vehicle Driverâ€™s License valid i...</td>\n",
       "      <td>53244.0</td>\n",
       "      <td>(50000, 70000]</td>\n",
       "      <td>average</td>\n",
       "    </tr>\n",
       "    <tr>\n",
       "      <th>4</th>\n",
       "      <td>NYC HOUSING AUTHORITY</td>\n",
       "      <td>50</td>\n",
       "      <td>PAINTER</td>\n",
       "      <td>91830</td>\n",
       "      <td>0</td>\n",
       "      <td>Maintenance &amp; Operations</td>\n",
       "      <td>35.00</td>\n",
       "      <td>35.00</td>\n",
       "      <td>Hourly</td>\n",
       "      <td>DMP-Contract &amp; Analysis Unit</td>\n",
       "      <td>Dept of Management &amp; Planning</td>\n",
       "      <td>responsibilities of selected candidates will i...</td>\n",
       "      <td>1 five years of fulltime satisfactory experien...</td>\n",
       "      <td>NaN</td>\n",
       "      <td>SPECIAL NOTE:    1.  This is a temporary assig...</td>\n",
       "      <td>35.0</td>\n",
       "      <td>(1, 20000]</td>\n",
       "      <td>low</td>\n",
       "    </tr>\n",
       "    <tr>\n",
       "      <th>5</th>\n",
       "      <td>NYC HOUSING AUTHORITY</td>\n",
       "      <td>50</td>\n",
       "      <td>PAINTER</td>\n",
       "      <td>91830</td>\n",
       "      <td>0</td>\n",
       "      <td>Maintenance &amp; Operations</td>\n",
       "      <td>35.00</td>\n",
       "      <td>35.00</td>\n",
       "      <td>Hourly</td>\n",
       "      <td>DMP-Contract &amp; Analysis Unit</td>\n",
       "      <td>Dept of Management &amp; Planning</td>\n",
       "      <td>responsibilities of selected candidates will i...</td>\n",
       "      <td>1 five years of fulltime satisfactory experien...</td>\n",
       "      <td>NaN</td>\n",
       "      <td>SPECIAL NOTE:    1.  This is a temporary assig...</td>\n",
       "      <td>35.0</td>\n",
       "      <td>(1, 20000]</td>\n",
       "      <td>low</td>\n",
       "    </tr>\n",
       "  </tbody>\n",
       "</table>\n",
       "</div>"
      ],
      "text/plain": [
       "                         Agency  # Of Positions  \\\n",
       "0  DEPARTMENT OF BUSINESS SERV.               1   \n",
       "1  DEPARTMENT OF BUSINESS SERV.               1   \n",
       "2         NYC HOUSING AUTHORITY              52   \n",
       "3         NYC HOUSING AUTHORITY              52   \n",
       "4         NYC HOUSING AUTHORITY              50   \n",
       "5         NYC HOUSING AUTHORITY              50   \n",
       "\n",
       "              Civil Service Title Title Code No Level  \\\n",
       "0  CONTRACT REVIEWER (OFFICE OF L         40563     1   \n",
       "1  ADMINISTRATIVE BUSINESS PROMOT         10009    M3   \n",
       "2              MAINTENANCE WORKER         90698     0   \n",
       "3              MAINTENANCE WORKER         90698     0   \n",
       "4                         PAINTER         91830     0   \n",
       "5                         PAINTER         91830     0   \n",
       "\n",
       "               Job Category  Salary Range From  Salary Range To  \\\n",
       "0                       NaN           42405.00         65485.00   \n",
       "1                       NaN           60740.00        162014.00   \n",
       "2  Maintenance & Operations           51907.68         54580.32   \n",
       "3  Maintenance & Operations           51907.68         54580.32   \n",
       "4  Maintenance & Operations              35.00            35.00   \n",
       "5  Maintenance & Operations              35.00            35.00   \n",
       "\n",
       "  Salary Frequency                 Work Location  \\\n",
       "0           Annual           110 William St. N Y   \n",
       "1           Annual           110 William St. N Y   \n",
       "2           Annual        Heating Mgt-Operations   \n",
       "3           Annual        Heating Mgt-Operations   \n",
       "4           Hourly  DMP-Contract & Analysis Unit   \n",
       "5           Hourly  DMP-Contract & Analysis Unit   \n",
       "\n",
       "               Division/Work Unit  \\\n",
       "0            Strategy & Analytics   \n",
       "1            Tech Talent Pipeline   \n",
       "2  Management Services Department   \n",
       "3  Management Services Department   \n",
       "4   Dept of Management & Planning   \n",
       "5   Dept of Management & Planning   \n",
       "\n",
       "                                     Job Description  \\\n",
       "0  division of economic  financial opportunity de...   \n",
       "1  the new york city department of small business...   \n",
       "2  under direct supervision assist in the routine...   \n",
       "3  under direct supervision assist in the routine...   \n",
       "4  responsibilities of selected candidates will i...   \n",
       "5  responsibilities of selected candidates will i...   \n",
       "\n",
       "                           Minimum Qual Requirements  \\\n",
       "0  1a bachelor degree from an accredited college ...   \n",
       "1  1 a bachelor degree from an accredited college...   \n",
       "2  1 three years of fulltime satisfactory experie...   \n",
       "3  1 three years of fulltime satisfactory experie...   \n",
       "4  1 five years of fulltime satisfactory experien...   \n",
       "5  1 five years of fulltime satisfactory experien...   \n",
       "\n",
       "                                    Preferred Skills  \\\n",
       "0  excellent interpersonal and organizational ski...   \n",
       "1                                                NaN   \n",
       "2  1  a high school diploma or ged  2  cdl driver...   \n",
       "3  1  a high school diploma or ged  2  cdl driver...   \n",
       "4                                                NaN   \n",
       "5                                                NaN   \n",
       "\n",
       "                              Additional Information  average salary  \\\n",
       "0  Salary range for this position is: $42,405 - $...         53945.0   \n",
       "1                                                NaN        111377.0   \n",
       "2  1.  A Motor Vehicle Driverâ€™s License valid i...         53244.0   \n",
       "3  1.  A Motor Vehicle Driverâ€™s License valid i...         53244.0   \n",
       "4  SPECIAL NOTE:    1.  This is a temporary assig...            35.0   \n",
       "5  SPECIAL NOTE:    1.  This is a temporary assig...            35.0   \n",
       "\n",
       "        salary_bins salary_level  \n",
       "0    (50000, 70000]      average  \n",
       "1  (100000, 150000]         high  \n",
       "2    (50000, 70000]      average  \n",
       "3    (50000, 70000]      average  \n",
       "4        (1, 20000]          low  \n",
       "5        (1, 20000]          low  "
      ]
     },
     "execution_count": 37,
     "metadata": {},
     "output_type": "execute_result"
    }
   ],
   "source": [
    "df.head(n=6)"
   ]
  },
  {
   "cell_type": "code",
   "execution_count": 38,
   "metadata": {},
   "outputs": [],
   "source": [
    "df['salary_level'] = pd.Categorical(df.salary_level)"
   ]
  },
  {
   "cell_type": "code",
   "execution_count": 39,
   "metadata": {},
   "outputs": [
    {
     "name": "stdout",
     "output_type": "stream",
     "text": [
      "Agency                         object\n",
      "# Of Positions                  int64\n",
      "Civil Service Title            object\n",
      "Title Code No                  object\n",
      "Level                          object\n",
      "Job Category                   object\n",
      "Salary Range From             float64\n",
      "Salary Range To               float64\n",
      "Salary Frequency               object\n",
      "Work Location                  object\n",
      "Division/Work Unit             object\n",
      "Job Description                object\n",
      "Minimum Qual Requirements      object\n",
      "Preferred Skills               object\n",
      "Additional Information         object\n",
      "average salary                float64\n",
      "salary_bins                  category\n",
      "salary_level                 category\n",
      "dtype: object\n"
     ]
    }
   ],
   "source": [
    "print (df.dtypes)"
   ]
  },
  {
   "cell_type": "code",
   "execution_count": 40,
   "metadata": {},
   "outputs": [
    {
     "data": {
      "text/plain": [
       "12"
      ]
     },
     "execution_count": 40,
     "metadata": {},
     "output_type": "execute_result"
    }
   ],
   "source": [
    "df['Minimum Qual Requirements'].isnull().sum()"
   ]
  },
  {
   "cell_type": "code",
   "execution_count": 41,
   "metadata": {},
   "outputs": [],
   "source": [
    "df = df[df['Minimum Qual Requirements'].notnull()].reset_index(drop=True)"
   ]
  },
  {
   "cell_type": "code",
   "execution_count": 42,
   "metadata": {},
   "outputs": [
    {
     "data": {
      "text/plain": [
       "0"
      ]
     },
     "execution_count": 42,
     "metadata": {},
     "output_type": "execute_result"
    }
   ],
   "source": [
    "df['Minimum Qual Requirements'].isnull().sum()"
   ]
  },
  {
   "cell_type": "code",
   "execution_count": 43,
   "metadata": {},
   "outputs": [],
   "source": [
    "y = df.salary_level.cat.codes\n",
    "X=df['Minimum Qual Requirements'].values"
   ]
  },
  {
   "cell_type": "code",
   "execution_count": 44,
   "metadata": {},
   "outputs": [],
   "source": [
    "from sklearn.model_selection import train_test_split\n",
    "X_train, X_test, y_train, y_test = train_test_split(X, y, test_size=0.4, random_state=0)"
   ]
  },
  {
   "cell_type": "code",
   "execution_count": 45,
   "metadata": {},
   "outputs": [
    {
     "name": "stdout",
     "output_type": "stream",
     "text": [
      "(1866,) (1866,) (1245,) (1245,)\n"
     ]
    }
   ],
   "source": [
    "print(X_train.shape, y_train.shape, X_test.shape, y_test.shape)\n"
   ]
  },
  {
   "cell_type": "code",
   "execution_count": 46,
   "metadata": {},
   "outputs": [
    {
     "name": "stdout",
     "output_type": "stream",
     "text": [
      "{0, 1, 2, 3, 4, 5}\n",
      "[[  0 156]\n",
      " [  1 190]\n",
      " [  2 593]\n",
      " [  3 636]\n",
      " [  4 248]\n",
      " [  5  43]]\n"
     ]
    },
    {
     "name": "stderr",
     "output_type": "stream",
     "text": [
      "C:\\Users\\Wes\\Anaconda37\\lib\\site-packages\\ipykernel_launcher.py:4: DeprecationWarning: `itemfreq` is deprecated!\n",
      "`itemfreq` is deprecated and will be removed in a future version. Use instead `np.unique(..., return_counts=True)`\n",
      "  after removing the cwd from sys.path.\n"
     ]
    }
   ],
   "source": [
    "training_labels = set(y_train)\n",
    "print(training_labels)\n",
    "from scipy.stats import itemfreq\n",
    "training_category_dist = itemfreq(y_train)\n",
    "print(training_category_dist)"
   ]
  },
  {
   "cell_type": "code",
   "execution_count": 47,
   "metadata": {},
   "outputs": [],
   "source": [
    "from sklearn.feature_extraction.text import CountVectorizer\n",
    "from nltk.corpus import stopwords\n",
    "NLTKstopwords = set(stopwords.words('english'))\n",
    "morestopwords = ['should', 'or', 'in', 'an','would','could','like','one','even']\n",
    "stopwords = NLTKstopwords.union(morestopwords)"
   ]
  },
  {
   "cell_type": "code",
   "execution_count": 68,
   "metadata": {},
   "outputs": [],
   "source": [
    "unigram_count_vectorizer = CountVectorizer(encoding='latin-1', binary=False, min_df=5, stop_words=stopwords)\n",
    "bigram_count_vectorizer = CountVectorizer(encoding='latin-1', ngram_range=(1,2), min_df=5, stop_words=stopwords)"
   ]
  },
  {
   "cell_type": "code",
   "execution_count": 49,
   "metadata": {},
   "outputs": [
    {
     "name": "stdout",
     "output_type": "stream",
     "text": [
      "(1866, 1029)\n",
      "[[0 0 0 ... 3 0 0]]\n",
      "1029\n",
      "[('bachelor', 125), ('degree', 271), ('accredited', 43), ('college', 199), ('computer', 215), ('science', 835), ('engineering', 340), ('human', 470), ('interaction', 508), ('interactive', 509)]\n",
      "271\n"
     ]
    }
   ],
   "source": [
    "X_train_vec = unigram_count_vectorizer.fit_transform(X_train)\n",
    "\n",
    "print(X_train_vec.shape)\n",
    "print(X_train_vec[0].toarray())\n",
    "\n",
    "print(len(unigram_count_vectorizer.vocabulary_))\n",
    "\n",
    "print(list(unigram_count_vectorizer.vocabulary_.items())[:10])\n",
    "\n",
    "print(unigram_count_vectorizer.vocabulary_.get('degree'))"
   ]
  },
  {
   "cell_type": "code",
   "execution_count": 50,
   "metadata": {},
   "outputs": [
    {
     "name": "stdout",
     "output_type": "stream",
     "text": [
      "(1245, 1029)\n"
     ]
    }
   ],
   "source": [
    "X_test_vec = unigram_count_vectorizer.transform(X_test)\n",
    "\n",
    "# number of examples and number of features in the test set\n",
    "print(X_test_vec.shape)"
   ]
  },
  {
   "cell_type": "code",
   "execution_count": 51,
   "metadata": {},
   "outputs": [
    {
     "data": {
      "text/plain": [
       "MultinomialNB(alpha=1.0, class_prior=None, fit_prior=True)"
      ]
     },
     "execution_count": 51,
     "metadata": {},
     "output_type": "execute_result"
    }
   ],
   "source": [
    "from sklearn.naive_bayes import MultinomialNB\n",
    "\n",
    "# initialize the MNB model\n",
    "nb_clf= MultinomialNB()\n",
    "\n",
    "# using the training data to train the MNB model\n",
    "nb_clf.fit(X_train_vec,y_train)"
   ]
  },
  {
   "cell_type": "code",
   "execution_count": 52,
   "metadata": {},
   "outputs": [
    {
     "name": "stdout",
     "output_type": "stream",
     "text": [
      "-6.288124058636727\n",
      "-8.377164546812535\n",
      "-5.553289400228038\n",
      "-5.241776739366697\n",
      "-5.507515068374935\n"
     ]
    }
   ],
   "source": [
    "unigram_count_vectorizer.vocabulary_.get('amazing')\n",
    "for i in range(0,5):\n",
    "  print(nb_clf.feature_log_prob_[i][unigram_count_vectorizer.vocabulary_.get('masters')])"
   ]
  },
  {
   "cell_type": "code",
   "execution_count": 53,
   "metadata": {},
   "outputs": [
    {
     "name": "stdout",
     "output_type": "stream",
     "text": [
      "[(-4.832836826029886, 'science'),\n",
      " (-4.79201483150963, 'semester'),\n",
      " (-4.77614148235334, 'must'),\n",
      " (-4.768298304892315, 'equivalent'),\n",
      " (-4.729979440590178, 'conditioned'),\n",
      " (-4.729979440590178, 'credits'),\n",
      " (-4.715053790373502, 'continuance'),\n",
      " (-4.715053790373502, 'described'),\n",
      " (-4.715053790373502, 'matriculation'),\n",
      " (-4.7003476429838065, 'acceptable'),\n",
      " (-4.7003476429838065, 'upon'),\n",
      " (-4.6930748836547265, 'including'),\n",
      " (-4.678686146202628, 'year'),\n",
      " (-4.636721947103595, 'employment'),\n",
      " (-4.496364589408673, 'education'),\n",
      " (-4.444178836238103, 'course'),\n",
      " (-4.4218315375461055, 'satisfactory'),\n",
      " (-4.4218315375461055, 'study'),\n",
      " (-4.332061538117396, 'fulltime'),\n",
      " (-4.208682516956892, 'level'),\n",
      " (-4.177910858290138, 'accredited'),\n",
      " (-4.177910858290138, 'student'),\n",
      " (-4.014526502515934, 'assignment'),\n",
      " (-3.9713543306507253, 'graduate'),\n",
      " (-3.8709355829036785, 'years'),\n",
      " (-3.8365033864821942, 'technology'),\n",
      " (-3.753860511878635, 'information'),\n",
      " (-3.6516210088265657, 'school'),\n",
      " (-3.58724234701313, 'college'),\n",
      " (-3.473999311143034, 'experience')]\n"
     ]
    }
   ],
   "source": [
    "from pprint import pprint\n",
    "feature_ranks = sorted(zip(nb_clf.feature_log_prob_[0], unigram_count_vectorizer.get_feature_names()))\n",
    "very_low_features = feature_ranks[-30:]\n",
    "pprint(very_low_features)"
   ]
  },
  {
   "cell_type": "code",
   "execution_count": 54,
   "metadata": {},
   "outputs": [
    {
     "name": "stdout",
     "output_type": "stream",
     "text": [
      "[(-5.152327739001473, 'systems'),\n",
      " (-5.072285031327937, 'business'),\n",
      " (-5.072285031327937, 'computer'),\n",
      " (-5.072285031327937, 'programming'),\n",
      " (-5.034544703345089, 'candidates'),\n",
      " (-5.034544703345089, 'responsible'),\n",
      " (-4.998177059174214, 'including'),\n",
      " (-4.963085739362944, 'fulltime'),\n",
      " (-4.896394364864272, '18'),\n",
      " (-4.896394364864272, 'data'),\n",
      " (-4.8338740078829385, 'andor'),\n",
      " (-4.775033507860005, 'bachelor'),\n",
      " (-4.775033507860005, 'least'),\n",
      " (-4.719463656705194, 'administration'),\n",
      " (-4.692795409623033, 'capacity'),\n",
      " (-4.666819923219772, 'satisfactory'),\n",
      " (-4.61680950264511, 'months'),\n",
      " (-4.59271195106605, 'described'),\n",
      " (-4.59271195106605, 'education'),\n",
      " (-4.569181453655856, 'administrative'),\n",
      " (-4.569181453655856, 'executive'),\n",
      " (-4.501740172860323, 'equivalent'),\n",
      " (-4.48023396763936, 'management'),\n",
      " (-4.360089655797296, 'managerial'),\n",
      " (-4.323048384116947, 'accredited'),\n",
      " (-4.252844125443699, 'degree'),\n",
      " (-4.219507705176107, 'college'),\n",
      " (-3.9736727426598266, 'must'),\n",
      " (-3.797782076196162, 'years'),\n",
      " (-3.1828870925359656, 'experience')]\n"
     ]
    }
   ],
   "source": [
    "feature_ranksNew = sorted(zip(nb_clf.feature_log_prob_[5], unigram_count_vectorizer.get_feature_names()))\n",
    "very_top_features = feature_ranksNew[-30:]\n",
    "pprint(very_top_features)"
   ]
  },
  {
   "cell_type": "code",
   "execution_count": 55,
   "metadata": {},
   "outputs": [
    {
     "data": {
      "text/plain": [
       "65.06024096385542"
      ]
     },
     "execution_count": 55,
     "metadata": {},
     "output_type": "execute_result"
    }
   ],
   "source": [
    "nb_clf.score(X_test_vec,y_test) *100"
   ]
  },
  {
   "cell_type": "code",
   "execution_count": 56,
   "metadata": {},
   "outputs": [
    {
     "name": "stdout",
     "output_type": "stream",
     "text": [
      "[[ 54  14  22   4   0   0]\n",
      " [  0  84  37   1   1   0]\n",
      " [  1  44 296  25  16   4]\n",
      " [  3   7  41 282  79  33]\n",
      " [  2   0  16  50  81  26]\n",
      " [  0   0   4   2   3  13]]\n",
      "              precision    recall  f1-score   support\n",
      "\n",
      "           0       0.90      0.57      0.70        94\n",
      "           1       0.56      0.68      0.62       123\n",
      "           2       0.71      0.77      0.74       386\n",
      "           3       0.77      0.63      0.70       445\n",
      "           4       0.45      0.46      0.46       175\n",
      "           5       0.17      0.59      0.27        22\n",
      "\n",
      "   micro avg       0.65      0.65      0.65      1245\n",
      "   macro avg       0.60      0.62      0.58      1245\n",
      "weighted avg       0.69      0.65      0.66      1245\n",
      "\n"
     ]
    }
   ],
   "source": [
    "from sklearn.metrics import confusion_matrix\n",
    "y_pred = nb_clf.fit(X_train_vec, y_train).predict(X_test_vec)\n",
    "cm=confusion_matrix(y_test, y_pred, labels=[0,1,2,3,4,5])\n",
    "print(cm)\n",
    "\n",
    "from sklearn.metrics import classification_report\n",
    "target_names = ['0','1','2','3','4','5']\n",
    "print(classification_report(y_test, y_pred, target_names=target_names))"
   ]
  },
  {
   "cell_type": "code",
   "execution_count": 57,
   "metadata": {},
   "outputs": [
    {
     "data": {
      "image/png": "[encoded data removed]",
      "text/plain": [
       "<Figure size 432x288 with 2 Axes>"
      ]
     },
     "metadata": {
      "needs_background": "light"
     },
     "output_type": "display_data"
    }
   ],
   "source": [
    "hm1 = sns.heatmap(cm, annot = True, fmt = \"d\")"
   ]
  },
  {
   "cell_type": "code",
   "execution_count": 58,
   "metadata": {},
   "outputs": [
    {
     "name": "stderr",
     "output_type": "stream",
     "text": [
      "C:\\Users\\Wes\\Anaconda37\\lib\\site-packages\\sklearn\\svm\\base.py:922: ConvergenceWarning: Liblinear failed to converge, increase the number of iterations.\n",
      "  \"the number of iterations.\", ConvergenceWarning)\n"
     ]
    },
    {
     "data": {
      "text/plain": [
       "LinearSVC(C=1, class_weight=None, dual=True, fit_intercept=True,\n",
       "     intercept_scaling=1, loss='squared_hinge', max_iter=1000,\n",
       "     multi_class='ovr', penalty='l2', random_state=None, tol=0.0001,\n",
       "     verbose=0)"
      ]
     },
     "execution_count": 58,
     "metadata": {},
     "output_type": "execute_result"
    }
   ],
   "source": [
    "from sklearn.svm import LinearSVC\n",
    "\n",
    "\n",
    "svm_clf = LinearSVC(C=1)\n",
    "\n",
    "\n",
    "svm_clf.fit(X_train_vec,y_train)"
   ]
  },
  {
   "cell_type": "code",
   "execution_count": 59,
   "metadata": {},
   "outputs": [
    {
     "name": "stdout",
     "output_type": "stream",
     "text": [
      "Words associated with low pay\n",
      "(0.22621662256147454, 'endorsement')\n",
      "(0.2266068684981074, 'buildings')\n",
      "(0.228268929466962, 'enrolled')\n",
      "(0.22862705130337097, '10')\n",
      "(0.22919268083370575, 'sufficient')\n",
      "(0.23376226592893262, 'credited')\n",
      "(0.2338161032615198, 'license')\n",
      "(0.23672768660644433, 'ability')\n",
      "(0.23690963247191416, 'law')\n",
      "(0.24054771463484692, 'student')\n",
      "(0.2407052630547564, 'library')\n",
      "(0.24151295561454064, 'practice')\n",
      "(0.24910194695591525, 'disqualified')\n",
      "(0.2517296691595271, 'grade')\n",
      "(0.26959305757563373, 'suspensions')\n",
      "(0.28006890479811153, 'maintained')\n",
      "(0.2803468428870735, 'department')\n",
      "(0.280425178936968, 'maximum')\n",
      "(0.2957990485266228, 'three')\n",
      "(0.31203955534833683, 'agency')\n",
      "(0.31921088583708573, 'university')\n",
      "(0.32626204299962974, 'helper')\n",
      "(0.3347994050054648, 'archival')\n",
      "(0.34238498420157115, 'machinist')\n",
      "(0.35548785384229264, 'program')\n",
      "(0.3899381072589293, 'upon')\n",
      "(0.41427408257368725, 'committee')\n",
      "(0.44489183074903343, 'required')\n",
      "(0.5202213519040169, 'candidates')\n",
      "(1.0105660289492122, 'possession')\n",
      "\n"
     ]
    }
   ],
   "source": [
    "feature_ranks2 = sorted(zip(svm_clf.coef_[0], unigram_count_vectorizer.get_feature_names()))\n",
    "feature_ranks2VP = sorted(zip(svm_clf.coef_[5], unigram_count_vectorizer.get_feature_names()))\n",
    "\n",
    "very_low_30 = feature_ranks2[-30:]\n",
    "print(\"Words associated with low pay\")\n",
    "for i in range(0, len(very_low_30)):\n",
    "    print(very_low_30[i])\n",
    "print()"
   ]
  },
  {
   "cell_type": "code",
   "execution_count": 60,
   "metadata": {},
   "outputs": [
    {
     "name": "stdout",
     "output_type": "stream",
     "text": [
      "Words associated with high pay\n",
      "(0.11125855044319603, 'qualify')\n",
      "(0.11445306789497403, 'paid')\n",
      "(0.11962543035809009, 'similar')\n",
      "(0.12056152660757999, 'level')\n",
      "(0.13687264882562636, 'university')\n",
      "(0.14249764495366457, 'mentioned')\n",
      "(0.1485700437447347, '1a')\n",
      "(0.15843484965358529, 'services')\n",
      "(0.15917480623633493, 'executive')\n",
      "(0.16871962425576664, 'staff')\n",
      "(0.17292948627993365, 'large')\n",
      "(0.1841550798386673, 'responsibilities')\n",
      "(0.18462001496934174, 'administration')\n",
      "(0.18565568215822018, 'capacity')\n",
      "(0.18677277203052553, 'organization')\n",
      "(0.2020548574607908, 'duties')\n",
      "(0.2110605700598884, 'practice')\n",
      "(0.2114246131464746, 'progressively')\n",
      "(0.2394071061434082, 'combination')\n",
      "(0.252355056575697, '2a')\n",
      "(0.26405133406547737, 'description')\n",
      "(0.2721458408277465, 'management')\n",
      "(0.2794619775560157, 'years')\n",
      "(0.29694535948702044, 'consultative')\n",
      "(0.29710935285108675, 'requirements')\n",
      "(0.3318116699370127, 'urban')\n",
      "(0.42215289112665766, 'andor')\n",
      "(0.4636082706026464, 'housing')\n",
      "(0.5761030656488828, 'five')\n",
      "(0.9826491209709001, 'internal')\n",
      "\n"
     ]
    }
   ],
   "source": [
    "very_high_30 = feature_ranks2VP[-30:]\n",
    "print(\"Words associated with high pay\")\n",
    "for i in range(0, len(very_high_30)):\n",
    "    print(very_high_30[i])\n",
    "print()"
   ]
  },
  {
   "cell_type": "code",
   "execution_count": 61,
   "metadata": {},
   "outputs": [
    {
     "data": {
      "text/plain": [
       "73.81526104417671"
      ]
     },
     "execution_count": 61,
     "metadata": {},
     "output_type": "execute_result"
    }
   ],
   "source": [
    "svm_clf.score(X_test_vec,y_test) *100"
   ]
  },
  {
   "cell_type": "code",
   "execution_count": 62,
   "metadata": {},
   "outputs": [
    {
     "name": "stdout",
     "output_type": "stream",
     "text": [
      "[[ 62  15  14   3   0   0]\n",
      " [  2  86  30   5   0   0]\n",
      " [  1  23 310  46   6   0]\n",
      " [  3   2  33 388  19   0]\n",
      " [  1   0  13  97  64   0]\n",
      " [  0   0   0  11   2   9]]\n",
      "\n",
      "              precision    recall  f1-score   support\n",
      "\n",
      "           0       0.90      0.66      0.76        94\n",
      "           1       0.68      0.70      0.69       123\n",
      "           2       0.78      0.80      0.79       386\n",
      "           3       0.71      0.87      0.78       445\n",
      "           4       0.70      0.37      0.48       175\n",
      "           5       1.00      0.41      0.58        22\n",
      "\n",
      "   micro avg       0.74      0.74      0.74      1245\n",
      "   macro avg       0.79      0.63      0.68      1245\n",
      "weighted avg       0.74      0.74      0.73      1245\n",
      "\n"
     ]
    }
   ],
   "source": [
    "y_pred2 = svm_clf.predict(X_test_vec)\n",
    "cm2=confusion_matrix(y_test, y_pred2, labels=[0,1,2,3,4,5])\n",
    "print(cm2)\n",
    "print()\n",
    "\n",
    "from sklearn.metrics import classification_report\n",
    "target_names = ['0','1','2','3','4','5']\n",
    "print(classification_report(y_test, y_pred2, target_names=target_names))"
   ]
  },
  {
   "cell_type": "code",
   "execution_count": 63,
   "metadata": {},
   "outputs": [
    {
     "data": {
      "image/png": "[encoded data removed]",
      "text/plain": [
       "<Figure size 432x288 with 2 Axes>"
      ]
     },
     "metadata": {
      "needs_background": "light"
     },
     "output_type": "display_data"
    }
   ],
   "source": [
    "hm2 = sns.heatmap(cm2, annot = True, fmt = \"d\")"
   ]
  },
  {
   "cell_type": "code",
   "execution_count": 70,
   "metadata": {},
   "outputs": [
    {
     "name": "stdout",
     "output_type": "stream",
     "text": [
      "(1866, 4162)\n",
      "[[0 0 0 ... 0 0 0]]\n",
      "4162\n",
      "[('bachelor', 487), ('degree', 1042), ('accredited', 115), ('college', 734), ('computer', 834), ('science', 3355), ('engineering', 1369), ('human', 1957), ('interaction', 2081), ('interactive', 2083), ('media', 2435), ('digital', 1184), ('graphics', 1868), ('design', 1135), ('data', 1008), ('visualization', 3974), ('communication', 798), ('related', 3143), ('field', 1686), ('four', 1782)]\n",
      "2391\n"
     ]
    }
   ],
   "source": [
    "X_train_vec2 = bigram_count_vectorizer.fit_transform(X_train)\n",
    "\n",
    "\n",
    "print(X_train_vec2.shape)\n",
    "print(X_train_vec2[0].toarray())\n",
    "\n",
    "\n",
    "print(len(bigram_count_vectorizer.vocabulary_))\n",
    "\n",
    "\n",
    "print(list(bigram_count_vectorizer.vocabulary_.items())[:20])\n",
    "\n",
    "\n",
    "print(bigram_count_vectorizer.vocabulary_.get('masters degree'))"
   ]
  },
  {
   "cell_type": "code",
   "execution_count": 76,
   "metadata": {},
   "outputs": [
    {
     "name": "stdout",
     "output_type": "stream",
     "text": [
      "(1245, 4162)\n"
     ]
    }
   ],
   "source": [
    "X_test_vec2 = bigram_count_vectorizer.transform(X_test)\n",
    "print(X_test_vec2.shape)"
   ]
  },
  {
   "cell_type": "code",
   "execution_count": 71,
   "metadata": {},
   "outputs": [
    {
     "name": "stderr",
     "output_type": "stream",
     "text": [
      "C:\\Users\\Wes\\Anaconda37\\lib\\site-packages\\sklearn\\svm\\base.py:922: ConvergenceWarning: Liblinear failed to converge, increase the number of iterations.\n",
      "  \"the number of iterations.\", ConvergenceWarning)\n"
     ]
    },
    {
     "data": {
      "text/plain": [
       "LinearSVC(C=1, class_weight=None, dual=True, fit_intercept=True,\n",
       "     intercept_scaling=1, loss='squared_hinge', max_iter=1000,\n",
       "     multi_class='ovr', penalty='l2', random_state=None, tol=0.0001,\n",
       "     verbose=0)"
      ]
     },
     "execution_count": 71,
     "metadata": {},
     "output_type": "execute_result"
    }
   ],
   "source": [
    "svm_clf2 = LinearSVC(C=1)\n",
    "\n",
    "\n",
    "svm_clf2.fit(X_train_vec2,y_train)"
   ]
  },
  {
   "cell_type": "code",
   "execution_count": 73,
   "metadata": {},
   "outputs": [
    {
     "name": "stdout",
     "output_type": "stream",
     "text": [
      "[(0.12753043068710007, 'university six'),\n",
      " (0.12858394333777867, 'make equivalent'),\n",
      " (0.128883530135879, 'employment'),\n",
      " (0.12894086379381656, 'program accredited'),\n",
      " (0.1308748823740406, 'license'),\n",
      " (0.1326105286771497, 'enrolled'),\n",
      " (0.13261052867714976, 'degree program'),\n",
      " (0.14103381100266157, 'school health'),\n",
      " (0.14215676022268378, 'student'),\n",
      " (0.14759400694031846, 'archival'),\n",
      " (0.14804009741559176, 'maximum'),\n",
      " (0.15344031817491266, 'school maximum'),\n",
      " (0.15815873922697213, 'acceptable experience'),\n",
      " (0.1582785871142346, 'grade'),\n",
      " (0.1596835234584026, 'ability'),\n",
      " (0.15971389510443515, 'issued new'),\n",
      " (0.1635698518217515, 'equivalent however'),\n",
      " (0.17848804315623798, 'helper'),\n",
      " (0.1786172566582447, 'program'),\n",
      " (0.19618447693107316, 'law'),\n",
      " (0.23395081478784963, 'endorsement'),\n",
      " (0.24354396924168528, 'upon'),\n",
      " (0.27467175106992503, 'required'),\n",
      " (0.28986380031361103, 'license registered'),\n",
      " (0.2951599173339066, 'agency'),\n",
      " (0.31073491148670246, 'possession'),\n",
      " (0.3163870874165012, 'state license'),\n",
      " (0.3196660178573075, 'possession valid'),\n",
      " (0.34191411708398856, 'committee'),\n",
      " (0.39288149094344027, 'candidates')]\n"
     ]
    }
   ],
   "source": [
    "feature_ranksBG2 = sorted(zip(svm_clf2.coef_[0], bigram_count_vectorizer.get_feature_names()))\n",
    "feature_ranksBG2VP = sorted(zip(svm_clf2.coef_[5], bigram_count_vectorizer.get_feature_names()))\n",
    "very_low_featuresBG2 = feature_ranksBG2[-30:]\n",
    "pprint(very_low_featuresBG2)"
   ]
  },
  {
   "cell_type": "code",
   "execution_count": 74,
   "metadata": {},
   "outputs": [
    {
     "name": "stdout",
     "output_type": "stream",
     "text": [
      "[(0.08667536494464705, 'college three'),\n",
      " (0.08848106106100671, 'organizational'),\n",
      " (0.08850575888259359, 'satisfactory fulltime'),\n",
      " (0.09198976434381526, 'practice'),\n",
      " (0.09216273110242894, 'capacity'),\n",
      " (0.09281638461905727, 'similar'),\n",
      " (0.09480112140414564, 'combination education'),\n",
      " (0.09707227164025206, '2a'),\n",
      " (0.10391908047499766, 'duties'),\n",
      " (0.10833636436768833, 'organization'),\n",
      " (0.10890860585776532, 'years progressively'),\n",
      " (0.11061203621342547, 'years administrative'),\n",
      " (0.118717173599244, 'consultative capacity'),\n",
      " (0.1200053132445187, 'executive'),\n",
      " (0.13622053648872612, 'combination'),\n",
      " (0.13828976409034605, 'experience administrative'),\n",
      " (0.1450093850123748, 'administration'),\n",
      " (0.15980428602206015, 'management'),\n",
      " (0.1628722919889268, 'years'),\n",
      " (0.20204615768905815, 'consultative'),\n",
      " (0.2081763195310034, 'five years'),\n",
      " (0.20817631953100346, 'five'),\n",
      " (0.2100025845225248, 'executive consultative'),\n",
      " (0.23335234079033612, 'urban'),\n",
      " (0.2636325167652663, 'andor'),\n",
      " (0.29279366185677363, 'housing'),\n",
      " (0.3227730719631377, 'description'),\n",
      " (0.3789472763826685, 'university five'),\n",
      " (0.41592298374651726, 'requirements'),\n",
      " (0.8790018360952944, 'internal')]\n"
     ]
    }
   ],
   "source": [
    "very_high_featuresBG2 = feature_ranksBG2VP[-30:]\n",
    "pprint(very_high_featuresBG2)"
   ]
  },
  {
   "cell_type": "code",
   "execution_count": 77,
   "metadata": {},
   "outputs": [
    {
     "data": {
      "text/plain": [
       "75.02008032128515"
      ]
     },
     "execution_count": 77,
     "metadata": {},
     "output_type": "execute_result"
    }
   ],
   "source": [
    "svm_clf2.score(X_test_vec2,y_test) *100"
   ]
  },
  {
   "cell_type": "code",
   "execution_count": 78,
   "metadata": {},
   "outputs": [
    {
     "name": "stdout",
     "output_type": "stream",
     "text": [
      "[[ 64  15  12   3   0   0]\n",
      " [  2  89  29   3   0   0]\n",
      " [  1  27 321  35   2   0]\n",
      " [  3   1  38 376  27   0]\n",
      " [  1   1  14  86  73   0]\n",
      " [  0   0   0   4   7  11]]\n",
      "\n",
      "              precision    recall  f1-score   support\n",
      "\n",
      "           0       0.90      0.68      0.78        94\n",
      "           1       0.67      0.72      0.70       123\n",
      "           2       0.78      0.83      0.80       386\n",
      "           3       0.74      0.84      0.79       445\n",
      "           4       0.67      0.42      0.51       175\n",
      "           5       1.00      0.50      0.67        22\n",
      "\n",
      "   micro avg       0.75      0.75      0.75      1245\n",
      "   macro avg       0.79      0.67      0.71      1245\n",
      "weighted avg       0.75      0.75      0.74      1245\n",
      "\n"
     ]
    }
   ],
   "source": [
    "y_predBG2 = svm_clf2.predict(X_test_vec2)\n",
    "cmBG2=confusion_matrix(y_test, y_predBG2, labels=[0,1,2,3,4,5])\n",
    "print(cmBG2)\n",
    "print()\n",
    "\n",
    "target_names = ['0','1','2','3','4','5']\n",
    "print(classification_report(y_test, y_predBG2, target_names=target_names))"
   ]
  },
  {
   "cell_type": "code",
   "execution_count": 79,
   "metadata": {},
   "outputs": [
    {
     "data": {
      "image/png": "[encoded data removed]",
      "text/plain": [
       "<Figure size 432x288 with 2 Axes>"
      ]
     },
     "metadata": {
      "needs_background": "light"
     },
     "output_type": "display_data"
    }
   ],
   "source": [
    "hmBG2 = sns.heatmap(cmBG2, annot= True, fmt= \"d\")"
   ]
  },
  {
   "cell_type": "code",
   "execution_count": 80,
   "metadata": {},
   "outputs": [
    {
     "name": "stdout",
     "output_type": "stream",
     "text": [
      "0.6027261801845111\n"
     ]
    }
   ],
   "source": [
    "from sklearn.pipeline import Pipeline\n",
    "from sklearn.model_selection import cross_val_score\n",
    "\n",
    "nb_clf_pipe1 = Pipeline([('vect', CountVectorizer(encoding='latin-1', binary=False, min_df=5, stop_words=stopwords)),('nb', MultinomialNB())])\n",
    "scores = cross_val_score(nb_clf_pipe1, X, y, cv=10, scoring='accuracy')\n",
    "avg=sum(scores)/len(scores)\n",
    "print(avg)"
   ]
  },
  {
   "cell_type": "code",
   "execution_count": 81,
   "metadata": {},
   "outputs": [
    {
     "name": "stderr",
     "output_type": "stream",
     "text": [
      "C:\\Users\\Wes\\Anaconda37\\lib\\site-packages\\sklearn\\svm\\base.py:922: ConvergenceWarning: Liblinear failed to converge, increase the number of iterations.\n",
      "  \"the number of iterations.\", ConvergenceWarning)\n",
      "C:\\Users\\Wes\\Anaconda37\\lib\\site-packages\\sklearn\\svm\\base.py:922: ConvergenceWarning: Liblinear failed to converge, increase the number of iterations.\n",
      "  \"the number of iterations.\", ConvergenceWarning)\n",
      "C:\\Users\\Wes\\Anaconda37\\lib\\site-packages\\sklearn\\svm\\base.py:922: ConvergenceWarning: Liblinear failed to converge, increase the number of iterations.\n",
      "  \"the number of iterations.\", ConvergenceWarning)\n",
      "C:\\Users\\Wes\\Anaconda37\\lib\\site-packages\\sklearn\\svm\\base.py:922: ConvergenceWarning: Liblinear failed to converge, increase the number of iterations.\n",
      "  \"the number of iterations.\", ConvergenceWarning)\n",
      "C:\\Users\\Wes\\Anaconda37\\lib\\site-packages\\sklearn\\svm\\base.py:922: ConvergenceWarning: Liblinear failed to converge, increase the number of iterations.\n",
      "  \"the number of iterations.\", ConvergenceWarning)\n",
      "C:\\Users\\Wes\\Anaconda37\\lib\\site-packages\\sklearn\\svm\\base.py:922: ConvergenceWarning: Liblinear failed to converge, increase the number of iterations.\n",
      "  \"the number of iterations.\", ConvergenceWarning)\n",
      "C:\\Users\\Wes\\Anaconda37\\lib\\site-packages\\sklearn\\svm\\base.py:922: ConvergenceWarning: Liblinear failed to converge, increase the number of iterations.\n",
      "  \"the number of iterations.\", ConvergenceWarning)\n",
      "C:\\Users\\Wes\\Anaconda37\\lib\\site-packages\\sklearn\\svm\\base.py:922: ConvergenceWarning: Liblinear failed to converge, increase the number of iterations.\n",
      "  \"the number of iterations.\", ConvergenceWarning)\n",
      "C:\\Users\\Wes\\Anaconda37\\lib\\site-packages\\sklearn\\svm\\base.py:922: ConvergenceWarning: Liblinear failed to converge, increase the number of iterations.\n",
      "  \"the number of iterations.\", ConvergenceWarning)\n"
     ]
    },
    {
     "name": "stdout",
     "output_type": "stream",
     "text": [
      "0.6971315940748747\n"
     ]
    },
    {
     "name": "stderr",
     "output_type": "stream",
     "text": [
      "C:\\Users\\Wes\\Anaconda37\\lib\\site-packages\\sklearn\\svm\\base.py:922: ConvergenceWarning: Liblinear failed to converge, increase the number of iterations.\n",
      "  \"the number of iterations.\", ConvergenceWarning)\n"
     ]
    }
   ],
   "source": [
    "svm_clf_pipe1 = Pipeline([('vect', CountVectorizer(encoding='latin-1', binary=False, min_df=5, stop_words=stopwords)),('svm', svm_clf)])\n",
    "scores1 = cross_val_score(svm_clf_pipe1, X, y, cv=10, scoring='accuracy')\n",
    "\n",
    "avg=sum(scores1)/len(scores1)\n",
    "print(avg)"
   ]
  },
  {
   "cell_type": "code",
   "execution_count": null,
   "metadata": {},
   "outputs": [],
   "source": []
  }
 ],
 "metadata": {
  "kernelspec": {
   "display_name": "Python 3",
   "language": "python",
   "name": "python3"
  },
  "language_info": {
   "codemirror_mode": {
    "name": "ipython",
    "version": 3
   },
   "file_extension": ".py",
   "mimetype": "text/x-python",
   "name": "python",
   "nbconvert_exporter": "python",
   "pygments_lexer": "ipython3",
   "version": "3.7.3"
  }
 },
 "nbformat": 4,
 "nbformat_minor": 2
}
